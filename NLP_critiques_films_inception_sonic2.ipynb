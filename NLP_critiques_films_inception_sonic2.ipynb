{
 "cells": [
  {
   "cell_type": "markdown",
   "id": "fe8a016b",
   "metadata": {},
   "source": [
    "# NLP pour l’analyse de critiques de films"
   ]
  },
  {
   "cell_type": "code",
   "execution_count": 1,
   "id": "dad91a1e",
   "metadata": {},
   "outputs": [],
   "source": [
    "import pandas as pd"
   ]
  },
  {
   "cell_type": "markdown",
   "id": "ef796f03",
   "metadata": {},
   "source": [
    "## Etape 1 : Web Scraping des données d’avis de spectacteurs"
   ]
  },
  {
   "cell_type": "markdown",
   "id": "45f62500",
   "metadata": {},
   "source": [
    "**Ici on récupère sous forme de dataframe l'ensemble des notes et avis de chaque films**"
   ]
  },
  {
   "cell_type": "code",
   "execution_count": 2,
   "id": "d964994d",
   "metadata": {},
   "outputs": [],
   "source": [
    "from Appli_WebScraping import get_webscrapping_avis\n",
    "\n",
    "nom_film1 = \"inception\"\n",
    "url1 = 'http://www.allocine.fr/film/fichefilm-143692/critiques/spectateurs/'\n",
    "# Nombre de page à lire pour le 1er film\n",
    "nbPages1 = 477\n",
    "chemin1 = f'./films/allocine_{nom_film1}_avis.csv'\n",
    "\n",
    "nom_film2 = \"sonic2\"\n",
    "url2 = 'https://www.allocine.fr/film/fichefilm-281203/critiques/spectateurs/'\n",
    "# Nombre de page à lire pour le 2nd film\n",
    "nbPages2 = 8\n",
    "chemin2 = f'./films/allocine_{nom_film2}_avis.csv'\n",
    "\n",
    "# URI-SUFFIX\n",
    "uri_pages = '?page='"
   ]
  },
  {
   "cell_type": "markdown",
   "id": "73aba5b2",
   "metadata": {},
   "source": [
    "- Critique du film **Inception** sur Allociné https://www.allocine.fr/film/fichefilm-143692/critiques/spectateurs/"
   ]
  },
  {
   "cell_type": "code",
   "execution_count": 3,
   "id": "190adab3",
   "metadata": {
    "scrolled": true
   },
   "outputs": [
    {
     "data": {
      "text/plain": [
       "'./films/allocine_inception_avis.csv'"
      ]
     },
     "execution_count": 3,
     "metadata": {},
     "output_type": "execute_result"
    }
   ],
   "source": [
    "from Appli_WebScraping import get_webscrapping_avis\n",
    "get_webscrapping_avis(url1, uri_pages, nbPages1, chemin1)"
   ]
  },
  {
   "cell_type": "code",
   "execution_count": 3,
   "id": "83de462d",
   "metadata": {
    "scrolled": false
   },
   "outputs": [
    {
     "data": {
      "text/html": [
       "<div>\n",
       "<style scoped>\n",
       "    .dataframe tbody tr th:only-of-type {\n",
       "        vertical-align: middle;\n",
       "    }\n",
       "\n",
       "    .dataframe tbody tr th {\n",
       "        vertical-align: top;\n",
       "    }\n",
       "\n",
       "    .dataframe thead th {\n",
       "        text-align: right;\n",
       "    }\n",
       "</style>\n",
       "<table border=\"1\" class=\"dataframe\">\n",
       "  <thead>\n",
       "    <tr style=\"text-align: right;\">\n",
       "      <th></th>\n",
       "      <th>Note</th>\n",
       "      <th>Description</th>\n",
       "    </tr>\n",
       "  </thead>\n",
       "  <tbody>\n",
       "    <tr>\n",
       "      <th>0</th>\n",
       "      <td>5,0</td>\n",
       "      <td>Après le chef d'oeuvre super-héroïque The Dark...</td>\n",
       "    </tr>\n",
       "    <tr>\n",
       "      <th>1</th>\n",
       "      <td>5,0</td>\n",
       "      <td>C’est fou ce qu’on aime détester Christopher N...</td>\n",
       "    </tr>\n",
       "    <tr>\n",
       "      <th>2</th>\n",
       "      <td>5,0</td>\n",
       "      <td>CHEF D’ŒUVRE ! Le film est absolument parfait ...</td>\n",
       "    </tr>\n",
       "  </tbody>\n",
       "</table>\n",
       "</div>"
      ],
      "text/plain": [
       "  Note                                        Description\n",
       "0  5,0  Après le chef d'oeuvre super-héroïque The Dark...\n",
       "1  5,0  C’est fou ce qu’on aime détester Christopher N...\n",
       "2  5,0  CHEF D’ŒUVRE ! Le film est absolument parfait ..."
      ]
     },
     "execution_count": 3,
     "metadata": {},
     "output_type": "execute_result"
    }
   ],
   "source": [
    "# Import du dataset Inception\n",
    "df_inception = pd.read_csv(chemin1)\n",
    "df_inception.head(3)"
   ]
  },
  {
   "cell_type": "markdown",
   "id": "f287cb56",
   "metadata": {},
   "source": [
    "- Critique du film **Sonic 2** sur Allociné https://www.allocine.fr/film/fichefilm-281203/critiques/spectateurs/"
   ]
  },
  {
   "cell_type": "code",
   "execution_count": 4,
   "id": "ad63ffc5",
   "metadata": {},
   "outputs": [
    {
     "data": {
      "text/plain": [
       "'./films/allocine_sonic2_avis.csv'"
      ]
     },
     "execution_count": 4,
     "metadata": {},
     "output_type": "execute_result"
    }
   ],
   "source": [
    "from Appli_WebScraping import get_webscrapping_avis\n",
    "get_webscrapping_avis(url2, uri_pages, nbPages2, chemin2)"
   ]
  },
  {
   "cell_type": "code",
   "execution_count": 4,
   "id": "f736e03f",
   "metadata": {
    "scrolled": true
   },
   "outputs": [
    {
     "data": {
      "text/html": [
       "<div>\n",
       "<style scoped>\n",
       "    .dataframe tbody tr th:only-of-type {\n",
       "        vertical-align: middle;\n",
       "    }\n",
       "\n",
       "    .dataframe tbody tr th {\n",
       "        vertical-align: top;\n",
       "    }\n",
       "\n",
       "    .dataframe thead th {\n",
       "        text-align: right;\n",
       "    }\n",
       "</style>\n",
       "<table border=\"1\" class=\"dataframe\">\n",
       "  <thead>\n",
       "    <tr style=\"text-align: right;\">\n",
       "      <th></th>\n",
       "      <th>Note</th>\n",
       "      <th>Description</th>\n",
       "    </tr>\n",
       "  </thead>\n",
       "  <tbody>\n",
       "    <tr>\n",
       "      <th>0</th>\n",
       "      <td>4,0</td>\n",
       "      <td>une bonne suite pour les aventures de sonic au...</td>\n",
       "    </tr>\n",
       "    <tr>\n",
       "      <th>1</th>\n",
       "      <td>5,0</td>\n",
       "      <td>Cette suite de sonic est incroyable !Le fan qu...</td>\n",
       "    </tr>\n",
       "    <tr>\n",
       "      <th>2</th>\n",
       "      <td>3,0</td>\n",
       "      <td>Malgré deux nouveaux personnages de l'univers ...</td>\n",
       "    </tr>\n",
       "  </tbody>\n",
       "</table>\n",
       "</div>"
      ],
      "text/plain": [
       "  Note                                        Description\n",
       "0  4,0  une bonne suite pour les aventures de sonic au...\n",
       "1  5,0  Cette suite de sonic est incroyable !Le fan qu...\n",
       "2  3,0  Malgré deux nouveaux personnages de l'univers ..."
      ]
     },
     "execution_count": 4,
     "metadata": {},
     "output_type": "execute_result"
    }
   ],
   "source": [
    "# Import du dataset Sonic2\n",
    "df_sonic2 = pd.read_csv(chemin2)\n",
    "df_sonic2.head(3)"
   ]
  },
  {
   "cell_type": "markdown",
   "id": "92b1c822",
   "metadata": {},
   "source": [
    "## Etape 2 : Préparation des données"
   ]
  },
  {
   "cell_type": "markdown",
   "id": "e3aae174",
   "metadata": {},
   "source": [
    "### 1) Des expressions régulières pour retirer les bruits (ponctuation, etc.) des commentaires."
   ]
  },
  {
   "cell_type": "markdown",
   "id": "f838cd5e",
   "metadata": {},
   "source": [
    "- **Vérification des données et Fusion des 2 dataframes**"
   ]
  },
  {
   "cell_type": "code",
   "execution_count": 5,
   "id": "08243f8d",
   "metadata": {},
   "outputs": [
    {
     "name": "stdout",
     "output_type": "stream",
     "text": [
      "<class 'pandas.core.frame.DataFrame'>\n",
      "RangeIndex: 7153 entries, 0 to 7152\n",
      "Data columns (total 2 columns):\n",
      " #   Column       Non-Null Count  Dtype \n",
      "---  ------       --------------  ----- \n",
      " 0   Note         7153 non-null   object\n",
      " 1   Description  7152 non-null   object\n",
      "dtypes: object(2)\n",
      "memory usage: 111.9+ KB\n"
     ]
    }
   ],
   "source": [
    "df_inception.info()"
   ]
  },
  {
   "cell_type": "code",
   "execution_count": 6,
   "id": "65638355",
   "metadata": {},
   "outputs": [
    {
     "name": "stdout",
     "output_type": "stream",
     "text": [
      "<class 'pandas.core.frame.DataFrame'>\n",
      "Int64Index: 7152 entries, 0 to 7152\n",
      "Data columns (total 2 columns):\n",
      " #   Column       Non-Null Count  Dtype \n",
      "---  ------       --------------  ----- \n",
      " 0   Note         7152 non-null   object\n",
      " 1   Description  7152 non-null   object\n",
      "dtypes: object(2)\n",
      "memory usage: 167.6+ KB\n"
     ]
    }
   ],
   "source": [
    "df_inception = df_inception.dropna(axis=0)\n",
    "df_inception.info()"
   ]
  },
  {
   "cell_type": "code",
   "execution_count": 7,
   "id": "8c6c35af",
   "metadata": {},
   "outputs": [
    {
     "name": "stdout",
     "output_type": "stream",
     "text": [
      "<class 'pandas.core.frame.DataFrame'>\n",
      "RangeIndex: 108 entries, 0 to 107\n",
      "Data columns (total 2 columns):\n",
      " #   Column       Non-Null Count  Dtype \n",
      "---  ------       --------------  ----- \n",
      " 0   Note         108 non-null    object\n",
      " 1   Description  108 non-null    object\n",
      "dtypes: object(2)\n",
      "memory usage: 1.8+ KB\n"
     ]
    }
   ],
   "source": [
    "df_sonic2.info()"
   ]
  },
  {
   "cell_type": "code",
   "execution_count": 8,
   "id": "4175e24d",
   "metadata": {
    "scrolled": true
   },
   "outputs": [
    {
     "data": {
      "text/html": [
       "<div>\n",
       "<style scoped>\n",
       "    .dataframe tbody tr th:only-of-type {\n",
       "        vertical-align: middle;\n",
       "    }\n",
       "\n",
       "    .dataframe tbody tr th {\n",
       "        vertical-align: top;\n",
       "    }\n",
       "\n",
       "    .dataframe thead th {\n",
       "        text-align: right;\n",
       "    }\n",
       "</style>\n",
       "<table border=\"1\" class=\"dataframe\">\n",
       "  <thead>\n",
       "    <tr style=\"text-align: right;\">\n",
       "      <th></th>\n",
       "      <th>Note</th>\n",
       "      <th>Description</th>\n",
       "    </tr>\n",
       "  </thead>\n",
       "  <tbody>\n",
       "    <tr>\n",
       "      <th>0</th>\n",
       "      <td>5,0</td>\n",
       "      <td>Après le chef d'oeuvre super-héroïque The Dark...</td>\n",
       "    </tr>\n",
       "    <tr>\n",
       "      <th>1</th>\n",
       "      <td>5,0</td>\n",
       "      <td>C’est fou ce qu’on aime détester Christopher N...</td>\n",
       "    </tr>\n",
       "    <tr>\n",
       "      <th>2</th>\n",
       "      <td>5,0</td>\n",
       "      <td>CHEF D’ŒUVRE ! Le film est absolument parfait ...</td>\n",
       "    </tr>\n",
       "    <tr>\n",
       "      <th>3</th>\n",
       "      <td>5,0</td>\n",
       "      <td>Un film aussi novateur que complexe, dont la m...</td>\n",
       "    </tr>\n",
       "    <tr>\n",
       "      <th>4</th>\n",
       "      <td>3,5</td>\n",
       "      <td>Le meilleur blockbuster de 2010 a pour thème l...</td>\n",
       "    </tr>\n",
       "    <tr>\n",
       "      <th>...</th>\n",
       "      <td>...</td>\n",
       "      <td>...</td>\n",
       "    </tr>\n",
       "    <tr>\n",
       "      <th>7255</th>\n",
       "      <td>5,0</td>\n",
       "      <td>Le film est trop bien la qualité du film est s...</td>\n",
       "    </tr>\n",
       "    <tr>\n",
       "      <th>7256</th>\n",
       "      <td>5,0</td>\n",
       "      <td>Film pas mal mais trop long..Un bon film à voi...</td>\n",
       "    </tr>\n",
       "    <tr>\n",
       "      <th>7257</th>\n",
       "      <td>4,0</td>\n",
       "      <td>Excellent film à voir petit comme grand. J’ai ...</td>\n",
       "    </tr>\n",
       "    <tr>\n",
       "      <th>7258</th>\n",
       "      <td>5,0</td>\n",
       "      <td>Fan de Sonic depuis tout petit, j'adorais cour...</td>\n",
       "    </tr>\n",
       "    <tr>\n",
       "      <th>7259</th>\n",
       "      <td>5,0</td>\n",
       "      <td>très bonne suite très bon film regardable par ...</td>\n",
       "    </tr>\n",
       "  </tbody>\n",
       "</table>\n",
       "<p>7260 rows × 2 columns</p>\n",
       "</div>"
      ],
      "text/plain": [
       "     Note                                        Description\n",
       "0     5,0  Après le chef d'oeuvre super-héroïque The Dark...\n",
       "1     5,0  C’est fou ce qu’on aime détester Christopher N...\n",
       "2     5,0  CHEF D’ŒUVRE ! Le film est absolument parfait ...\n",
       "3     5,0  Un film aussi novateur que complexe, dont la m...\n",
       "4     3,5  Le meilleur blockbuster de 2010 a pour thème l...\n",
       "...   ...                                                ...\n",
       "7255  5,0  Le film est trop bien la qualité du film est s...\n",
       "7256  5,0  Film pas mal mais trop long..Un bon film à voi...\n",
       "7257  4,0  Excellent film à voir petit comme grand. J’ai ...\n",
       "7258  5,0  Fan de Sonic depuis tout petit, j'adorais cour...\n",
       "7259  5,0  très bonne suite très bon film regardable par ...\n",
       "\n",
       "[7260 rows x 2 columns]"
      ]
     },
     "execution_count": 8,
     "metadata": {},
     "output_type": "execute_result"
    }
   ],
   "source": [
    "df = pd.concat([df_inception, df_sonic2], ignore_index=True)\n",
    "df"
   ]
  },
  {
   "cell_type": "markdown",
   "id": "bd97938d",
   "metadata": {},
   "source": [
    "- **pré-traitement des avis : on retire les bruits (ponctuation, etc.) des commentaires**"
   ]
  },
  {
   "cell_type": "code",
   "execution_count": 9,
   "id": "7dd8dc7a",
   "metadata": {
    "scrolled": false
   },
   "outputs": [
    {
     "data": {
      "text/html": [
       "<div>\n",
       "<style scoped>\n",
       "    .dataframe tbody tr th:only-of-type {\n",
       "        vertical-align: middle;\n",
       "    }\n",
       "\n",
       "    .dataframe tbody tr th {\n",
       "        vertical-align: top;\n",
       "    }\n",
       "\n",
       "    .dataframe thead th {\n",
       "        text-align: right;\n",
       "    }\n",
       "</style>\n",
       "<table border=\"1\" class=\"dataframe\">\n",
       "  <thead>\n",
       "    <tr style=\"text-align: right;\">\n",
       "      <th></th>\n",
       "      <th>Note</th>\n",
       "      <th>Description</th>\n",
       "      <th>Description_nlp</th>\n",
       "    </tr>\n",
       "  </thead>\n",
       "  <tbody>\n",
       "    <tr>\n",
       "      <th>0</th>\n",
       "      <td>5,0</td>\n",
       "      <td>Après le chef d'oeuvre super-héroïque The Dark...</td>\n",
       "      <td>après le chef d oeuvre super héroïque the dark...</td>\n",
       "    </tr>\n",
       "    <tr>\n",
       "      <th>1</th>\n",
       "      <td>5,0</td>\n",
       "      <td>C’est fou ce qu’on aime détester Christopher N...</td>\n",
       "      <td>c est fou ce qu on aime détester christopher n...</td>\n",
       "    </tr>\n",
       "    <tr>\n",
       "      <th>2</th>\n",
       "      <td>5,0</td>\n",
       "      <td>CHEF D’ŒUVRE ! Le film est absolument parfait ...</td>\n",
       "      <td>chef d œuvre le film est absolument parfait le...</td>\n",
       "    </tr>\n",
       "    <tr>\n",
       "      <th>3</th>\n",
       "      <td>5,0</td>\n",
       "      <td>Un film aussi novateur que complexe, dont la m...</td>\n",
       "      <td>un film aussi novateur que complexe dont la mi...</td>\n",
       "    </tr>\n",
       "    <tr>\n",
       "      <th>4</th>\n",
       "      <td>3,5</td>\n",
       "      <td>Le meilleur blockbuster de 2010 a pour thème l...</td>\n",
       "      <td>le meilleur blockbuster de a pour thème la dél...</td>\n",
       "    </tr>\n",
       "    <tr>\n",
       "      <th>...</th>\n",
       "      <td>...</td>\n",
       "      <td>...</td>\n",
       "      <td>...</td>\n",
       "    </tr>\n",
       "    <tr>\n",
       "      <th>7255</th>\n",
       "      <td>5,0</td>\n",
       "      <td>Le film est trop bien la qualité du film est s...</td>\n",
       "      <td>le film est trop bien la qualité du film est s...</td>\n",
       "    </tr>\n",
       "    <tr>\n",
       "      <th>7256</th>\n",
       "      <td>5,0</td>\n",
       "      <td>Film pas mal mais trop long..Un bon film à voi...</td>\n",
       "      <td>film pas mal mais trop long un bon film à voir...</td>\n",
       "    </tr>\n",
       "    <tr>\n",
       "      <th>7257</th>\n",
       "      <td>4,0</td>\n",
       "      <td>Excellent film à voir petit comme grand. J’ai ...</td>\n",
       "      <td>excellent film à voir petit comme grand j ai t...</td>\n",
       "    </tr>\n",
       "    <tr>\n",
       "      <th>7258</th>\n",
       "      <td>5,0</td>\n",
       "      <td>Fan de Sonic depuis tout petit, j'adorais cour...</td>\n",
       "      <td>fan de sonic depuis tout petit j adorais couri...</td>\n",
       "    </tr>\n",
       "    <tr>\n",
       "      <th>7259</th>\n",
       "      <td>5,0</td>\n",
       "      <td>très bonne suite très bon film regardable par ...</td>\n",
       "      <td>très bonne suite très bon film regardable par ...</td>\n",
       "    </tr>\n",
       "  </tbody>\n",
       "</table>\n",
       "<p>7260 rows × 3 columns</p>\n",
       "</div>"
      ],
      "text/plain": [
       "     Note                                        Description  \\\n",
       "0     5,0  Après le chef d'oeuvre super-héroïque The Dark...   \n",
       "1     5,0  C’est fou ce qu’on aime détester Christopher N...   \n",
       "2     5,0  CHEF D’ŒUVRE ! Le film est absolument parfait ...   \n",
       "3     5,0  Un film aussi novateur que complexe, dont la m...   \n",
       "4     3,5  Le meilleur blockbuster de 2010 a pour thème l...   \n",
       "...   ...                                                ...   \n",
       "7255  5,0  Le film est trop bien la qualité du film est s...   \n",
       "7256  5,0  Film pas mal mais trop long..Un bon film à voi...   \n",
       "7257  4,0  Excellent film à voir petit comme grand. J’ai ...   \n",
       "7258  5,0  Fan de Sonic depuis tout petit, j'adorais cour...   \n",
       "7259  5,0  très bonne suite très bon film regardable par ...   \n",
       "\n",
       "                                        Description_nlp  \n",
       "0     après le chef d oeuvre super héroïque the dark...  \n",
       "1     c est fou ce qu on aime détester christopher n...  \n",
       "2     chef d œuvre le film est absolument parfait le...  \n",
       "3     un film aussi novateur que complexe dont la mi...  \n",
       "4     le meilleur blockbuster de a pour thème la dél...  \n",
       "...                                                 ...  \n",
       "7255  le film est trop bien la qualité du film est s...  \n",
       "7256  film pas mal mais trop long un bon film à voir...  \n",
       "7257  excellent film à voir petit comme grand j ai t...  \n",
       "7258  fan de sonic depuis tout petit j adorais couri...  \n",
       "7259  très bonne suite très bon film regardable par ...  \n",
       "\n",
       "[7260 rows x 3 columns]"
      ]
     },
     "execution_count": 9,
     "metadata": {},
     "output_type": "execute_result"
    }
   ],
   "source": [
    "import re\n",
    "import unidecode\n",
    "\n",
    "CARACTERE_SPE = re.compile(r\"(<br\\s/><br\\s/>)|(-)|(/)|[.’']|[,;:!?$€()|><^*%\\\"\\\\\\[\\]]\")\n",
    "SUPP_ESPACES = re.compile(r\"\\s\\s+\")\n",
    "PUR_NOMBRE = re.compile(\"[0-9]\")\n",
    "\n",
    "def preprocess(txt):\n",
    "    txt = [line.replace('\\n', ' ')  for line in txt] # Retire les \\n (retours chariots)\n",
    "    txt = [PUR_NOMBRE.sub(\"\", line.lower()) for line in txt] # retire les nomre (comme les années)\n",
    "    txt = [CARACTERE_SPE.sub(\" \", line) for line in txt]\n",
    "    txt = [SUPP_ESPACES.sub(\" \", line) for line in txt]\n",
    "    return txt\n",
    "\n",
    "df['Description_nlp'] = pd.DataFrame(preprocess(df['Description']))\n",
    "df\n"
   ]
  },
  {
   "cell_type": "code",
   "execution_count": 10,
   "id": "9dd1f917",
   "metadata": {
    "scrolled": false
   },
   "outputs": [
    {
     "data": {
      "text/plain": [
       "(1839,\n",
       " 'après le chef d oeuvre super héroïque the dark knight christopher nolan a carte blanche pour réaliser son prochain long métrage il se met alors à la réalisation d un film co écrit avec son frère et qui a pour nom inception le récit mélange la réalité et le rêve le spectateur se méprend alors puis apprend à discerner le vrai du faux à trouver les clés du scénario inception est un chef d oeuvre un véritable chef d oeuvre christopher nolan illustre son talent de par sa réalisation et son scénario intelligence pure ce dernier se révèle complexe à première vue puis au long du visionnage l on se rend peu à peu compte de sa force de sa puissance émotionnelle de sa capacité à brouiller les pistes celles ci sont également éparpillées grâce à une mise en scène incroyable osant le grandiose et l intime inception peut s avérer être un blockbuster ultra visuel mais également un drame prenant puisque l intrigue principale est finalement le deuil pour parfaire cette grande production nolan a recourt à un casting prestigieux en tête d affiche leonardo dicaprio dans un rôle fort l acteur se trouve être de loin à la hauteur puisqu il insuffle beaucoup de charisme et de sentiments à son personnage nous retrouvons également joseph gordon levitt jusque là peu célèbre ainsi que ellen page et michael caine qui tourne avec nolan depuis batman begins hans zimmer compose la bande originale cette dernière accompagne le film tout au long jouant sur le suspens de certaines scènes ou sur les fortes émotions qui s en dégagent time restant l une des meilleures musiques du compositeurs avec inception christopher nolan montre une nouvelle fois qu il est l un des cinéastes contemporains les plus talentueux s appuyant sur des scénarios solides ses grosses productions se trouvent être des blockbusters intelligents étendards du cinéma de demain ')"
      ]
     },
     "execution_count": 10,
     "metadata": {},
     "output_type": "execute_result"
    }
   ],
   "source": [
    "# Visualisation du traitement sur 1 avis\n",
    "texte2 = df.iloc[0,2]\n",
    "len(texte2), texte2"
   ]
  },
  {
   "cell_type": "markdown",
   "id": "bc4466bf",
   "metadata": {},
   "source": [
    "### 2) NLP pour tokeniser et réduire le corpus de chaque commentaire (afin par exemple de ne garder que les mots importants via les stopwords)"
   ]
  },
  {
   "cell_type": "markdown",
   "id": "be621d45",
   "metadata": {},
   "source": [
    "#### - traitement par soptword"
   ]
  },
  {
   "cell_type": "code",
   "execution_count": 11,
   "id": "bb2f64c5",
   "metadata": {},
   "outputs": [
    {
     "name": "stdout",
     "output_type": "stream",
     "text": [
      "157 ['ai', 'aie', 'aient', 'aies', 'ait', 'as', 'au', 'aura', 'aurai', 'auraient', 'aurais', 'aurait', 'auras', 'aurez', 'auriez', 'aurions', 'aurons', 'auront', 'aux', 'avaient', 'avais', 'avait', 'avec', 'avez', 'aviez', 'avions', 'avons', 'ayant', 'ayante', 'ayantes', 'ayants', 'ayez', 'ayons', 'c', 'ce', 'ces', 'd', 'dans', 'de', 'des', 'du', 'elle', 'en', 'es', 'est', 'et', 'eu', 'eue', 'eues', 'eurent', 'eus', 'eusse', 'eussent', 'eusses', 'eussiez', 'eussions', 'eut', 'eux', 'eûmes', 'eût', 'eûtes', 'furent', 'fus', 'fusse', 'fussent', 'fusses', 'fussiez', 'fussions', 'fut', 'fûmes', 'fût', 'fûtes', 'il', 'ils', 'j', 'je', 'l', 'la', 'le', 'les', 'leur', 'lui', 'm', 'ma', 'mais', 'me', 'mes', 'moi', 'mon', 'même', 'n', 'ne', 'nos', 'notre', 'nous', 'on', 'ont', 'ou', 'par', 'pas', 'pour', 'qu', 'que', 'qui', 's', 'sa', 'se', 'sera', 'serai', 'seraient', 'serais', 'serait', 'seras', 'serez', 'seriez', 'serions', 'serons', 'seront', 'ses', 'soient', 'sois', 'soit', 'sommes', 'son', 'sont', 'soyez', 'soyons', 'suis', 'sur', 't', 'ta', 'te', 'tes', 'toi', 'ton', 'tu', 'un', 'une', 'vos', 'votre', 'vous', 'y', 'à', 'étaient', 'étais', 'était', 'étant', 'étante', 'étantes', 'étants', 'étiez', 'étions', 'été', 'étée', 'étées', 'étés', 'êtes']\n"
     ]
    }
   ],
   "source": [
    "import nltk\n",
    "#à installer la 1ere fois, est l'instal dans l'environnement\n",
    "#nltk.download('stopwords')\n",
    "from nltk.corpus import stopwords\n",
    "from nltk.tokenize import word_tokenize\n",
    "\n",
    "french_stopwords = set(stopwords.words('french'))\n",
    "print(len(french_stopwords), sorted(french_stopwords))"
   ]
  },
  {
   "cell_type": "code",
   "execution_count": 12,
   "id": "8b768b7c",
   "metadata": {
    "scrolled": false
   },
   "outputs": [
    {
     "data": {
      "text/plain": [
       "163"
      ]
     },
     "execution_count": 12,
     "metadata": {},
     "output_type": "execute_result"
    }
   ],
   "source": [
    "# Ajout de stopwords\n",
    "s=set(['a', 'à', 'cet', 'cette', 'cettes', 'après', 'tôt'])\n",
    "french_stopwords=french_stopwords.union(s)\n",
    "len(french_stopwords)"
   ]
  },
  {
   "cell_type": "markdown",
   "id": "f6a5d8e9",
   "metadata": {
    "scrolled": true
   },
   "source": [
    "- **Suppression des stopwords dans les avis en créant une nouvelle colonne**"
   ]
  },
  {
   "cell_type": "code",
   "execution_count": 13,
   "id": "103cbc91",
   "metadata": {
    "scrolled": false
   },
   "outputs": [
    {
     "data": {
      "text/html": [
       "<div>\n",
       "<style scoped>\n",
       "    .dataframe tbody tr th:only-of-type {\n",
       "        vertical-align: middle;\n",
       "    }\n",
       "\n",
       "    .dataframe tbody tr th {\n",
       "        vertical-align: top;\n",
       "    }\n",
       "\n",
       "    .dataframe thead th {\n",
       "        text-align: right;\n",
       "    }\n",
       "</style>\n",
       "<table border=\"1\" class=\"dataframe\">\n",
       "  <thead>\n",
       "    <tr style=\"text-align: right;\">\n",
       "      <th></th>\n",
       "      <th>Note</th>\n",
       "      <th>Description</th>\n",
       "      <th>Description_nlp</th>\n",
       "    </tr>\n",
       "  </thead>\n",
       "  <tbody>\n",
       "    <tr>\n",
       "      <th>0</th>\n",
       "      <td>5,0</td>\n",
       "      <td>Après le chef d'oeuvre super-héroïque The Dark...</td>\n",
       "      <td>[chef, oeuvre, super, héroïque, the, dark, kni...</td>\n",
       "    </tr>\n",
       "    <tr>\n",
       "      <th>1</th>\n",
       "      <td>5,0</td>\n",
       "      <td>C’est fou ce qu’on aime détester Christopher N...</td>\n",
       "      <td>[fou, aime, détester, christopher, nolan…plus,...</td>\n",
       "    </tr>\n",
       "    <tr>\n",
       "      <th>2</th>\n",
       "      <td>5,0</td>\n",
       "      <td>CHEF D’ŒUVRE ! Le film est absolument parfait ...</td>\n",
       "      <td>[chef, œuvre, film, absolument, parfait, acteu...</td>\n",
       "    </tr>\n",
       "    <tr>\n",
       "      <th>3</th>\n",
       "      <td>5,0</td>\n",
       "      <td>Un film aussi novateur que complexe, dont la m...</td>\n",
       "      <td>[film, aussi, novateur, complexe, dont, mise, ...</td>\n",
       "    </tr>\n",
       "    <tr>\n",
       "      <th>4</th>\n",
       "      <td>3,5</td>\n",
       "      <td>Le meilleur blockbuster de 2010 a pour thème l...</td>\n",
       "      <td>[meilleur, blockbuster, thème, délicate, diffé...</td>\n",
       "    </tr>\n",
       "  </tbody>\n",
       "</table>\n",
       "</div>"
      ],
      "text/plain": [
       "  Note                                        Description  \\\n",
       "0  5,0  Après le chef d'oeuvre super-héroïque The Dark...   \n",
       "1  5,0  C’est fou ce qu’on aime détester Christopher N...   \n",
       "2  5,0  CHEF D’ŒUVRE ! Le film est absolument parfait ...   \n",
       "3  5,0  Un film aussi novateur que complexe, dont la m...   \n",
       "4  3,5  Le meilleur blockbuster de 2010 a pour thème l...   \n",
       "\n",
       "                                     Description_nlp  \n",
       "0  [chef, oeuvre, super, héroïque, the, dark, kni...  \n",
       "1  [fou, aime, détester, christopher, nolan…plus,...  \n",
       "2  [chef, œuvre, film, absolument, parfait, acteu...  \n",
       "3  [film, aussi, novateur, complexe, dont, mise, ...  \n",
       "4  [meilleur, blockbuster, thème, délicate, diffé...  "
      ]
     },
     "execution_count": 13,
     "metadata": {},
     "output_type": "execute_result"
    }
   ],
   "source": [
    "#word_tokens2 = word_tokenize(df_sonic2.iloc[0,1])\n",
    "#word_tokens2\n",
    "ftoken = lambda x: [word.lower() for word in word_tokenize(x) if word not in (french_stopwords)]\n",
    "df[\"Description_nlp\"] = df[\"Description_nlp\"].apply(ftoken)\n",
    "df.head()"
   ]
  },
  {
   "cell_type": "code",
   "execution_count": 14,
   "id": "12ecaf7d",
   "metadata": {
    "scrolled": false
   },
   "outputs": [
    {
     "name": "stdout",
     "output_type": "stream",
     "text": [
      "179 Le film 🎥 et juste incroyable j ai passé un excellent moment j ai pas vu les 2h de film. Il y a tout dans cette suite action. Humour. Aventure. Le scénario et top. Vivement le 3 😁\n"
     ]
    }
   ],
   "source": [
    "texte = df.iloc[7251,1]\n",
    "print(len(texte), texte)"
   ]
  },
  {
   "cell_type": "code",
   "execution_count": 15,
   "id": "5a776f45",
   "metadata": {
    "scrolled": false
   },
   "outputs": [
    {
     "name": "stdout",
     "output_type": "stream",
     "text": [
      "19 ['film', '🎥', 'juste', 'incroyable', 'passé', 'excellent', 'moment', 'vu', 'h', 'film', 'tout', 'suite', 'action', 'humour', 'aventure', 'scénario', 'top', 'vivement', '😁']\n"
     ]
    }
   ],
   "source": [
    "texte = df.iloc[7251,2]\n",
    "print(len(texte), texte)"
   ]
  },
  {
   "cell_type": "markdown",
   "id": "b04cffb7",
   "metadata": {},
   "source": [
    "#### - \"Racinisation\" ou Stemming\n",
    "(nota : pas de lemmatisation parce qu'il n'existe pas de fonction de lemmatisation de corpus français dans NLTK)"
   ]
  },
  {
   "cell_type": "code",
   "execution_count": 16,
   "id": "3e8b1afd",
   "metadata": {
    "scrolled": true
   },
   "outputs": [
    {
     "data": {
      "text/html": [
       "<div>\n",
       "<style scoped>\n",
       "    .dataframe tbody tr th:only-of-type {\n",
       "        vertical-align: middle;\n",
       "    }\n",
       "\n",
       "    .dataframe tbody tr th {\n",
       "        vertical-align: top;\n",
       "    }\n",
       "\n",
       "    .dataframe thead th {\n",
       "        text-align: right;\n",
       "    }\n",
       "</style>\n",
       "<table border=\"1\" class=\"dataframe\">\n",
       "  <thead>\n",
       "    <tr style=\"text-align: right;\">\n",
       "      <th></th>\n",
       "      <th>Note</th>\n",
       "      <th>Description</th>\n",
       "      <th>Description_nlp</th>\n",
       "      <th>Description_stem</th>\n",
       "    </tr>\n",
       "  </thead>\n",
       "  <tbody>\n",
       "    <tr>\n",
       "      <th>0</th>\n",
       "      <td>5,0</td>\n",
       "      <td>Après le chef d'oeuvre super-héroïque The Dark...</td>\n",
       "      <td>[chef, oeuvre, super, héroïque, the, dark, kni...</td>\n",
       "      <td>chef oeuvr sup héroïqu the dark knight christo...</td>\n",
       "    </tr>\n",
       "    <tr>\n",
       "      <th>1</th>\n",
       "      <td>5,0</td>\n",
       "      <td>C’est fou ce qu’on aime détester Christopher N...</td>\n",
       "      <td>[fou, aime, détester, christopher, nolan…plus,...</td>\n",
       "      <td>fou aim détest christoph nolan…plus film sorte...</td>\n",
       "    </tr>\n",
       "    <tr>\n",
       "      <th>2</th>\n",
       "      <td>5,0</td>\n",
       "      <td>CHEF D’ŒUVRE ! Le film est absolument parfait ...</td>\n",
       "      <td>[chef, œuvre, film, absolument, parfait, acteu...</td>\n",
       "      <td>chef œuvr film absolu parf acteur tous excelle...</td>\n",
       "    </tr>\n",
       "    <tr>\n",
       "      <th>3</th>\n",
       "      <td>5,0</td>\n",
       "      <td>Un film aussi novateur que complexe, dont la m...</td>\n",
       "      <td>[film, aussi, novateur, complexe, dont, mise, ...</td>\n",
       "      <td>film auss novateur complex dont mis scen touch...</td>\n",
       "    </tr>\n",
       "    <tr>\n",
       "      <th>4</th>\n",
       "      <td>3,5</td>\n",
       "      <td>Le meilleur blockbuster de 2010 a pour thème l...</td>\n",
       "      <td>[meilleur, blockbuster, thème, délicate, diffé...</td>\n",
       "      <td>meilleur blockbust them délicat différenci ent...</td>\n",
       "    </tr>\n",
       "  </tbody>\n",
       "</table>\n",
       "</div>"
      ],
      "text/plain": [
       "  Note                                        Description  \\\n",
       "0  5,0  Après le chef d'oeuvre super-héroïque The Dark...   \n",
       "1  5,0  C’est fou ce qu’on aime détester Christopher N...   \n",
       "2  5,0  CHEF D’ŒUVRE ! Le film est absolument parfait ...   \n",
       "3  5,0  Un film aussi novateur que complexe, dont la m...   \n",
       "4  3,5  Le meilleur blockbuster de 2010 a pour thème l...   \n",
       "\n",
       "                                     Description_nlp  \\\n",
       "0  [chef, oeuvre, super, héroïque, the, dark, kni...   \n",
       "1  [fou, aime, détester, christopher, nolan…plus,...   \n",
       "2  [chef, œuvre, film, absolument, parfait, acteu...   \n",
       "3  [film, aussi, novateur, complexe, dont, mise, ...   \n",
       "4  [meilleur, blockbuster, thème, délicate, diffé...   \n",
       "\n",
       "                                    Description_stem  \n",
       "0  chef oeuvr sup héroïqu the dark knight christo...  \n",
       "1  fou aim détest christoph nolan…plus film sorte...  \n",
       "2  chef œuvr film absolu parf acteur tous excelle...  \n",
       "3  film auss novateur complex dont mis scen touch...  \n",
       "4  meilleur blockbust them délicat différenci ent...  "
      ]
     },
     "execution_count": 16,
     "metadata": {},
     "output_type": "execute_result"
    }
   ],
   "source": [
    "# \"Racinisation\" ou Stemming\n",
    "from nltk.stem.snowball import SnowballStemmer\n",
    "stemmer = SnowballStemmer(language='french')\n",
    "f = lambda x: ' '.join([stemmer.stem(word) for word in x])\n",
    "df[\"Description_stem\"] = df[\"Description_nlp\"].apply(f)\n",
    "df.head()"
   ]
  },
  {
   "cell_type": "code",
   "execution_count": 17,
   "id": "760d7b9e",
   "metadata": {
    "scrolled": true
   },
   "outputs": [
    {
     "name": "stdout",
     "output_type": "stream",
     "text": [
      "130 excellent second film encor meilleur premi tant fan sonic ador multitud émot tout long ennui seul second film voir vo selon cepend\n"
     ]
    }
   ],
   "source": [
    "texte = df.iloc[7241,3]\n",
    "print(len(texte), texte)"
   ]
  },
  {
   "cell_type": "markdown",
   "id": "8769b18b",
   "metadata": {},
   "source": [
    "#### - Suppression des accents et des emoticon"
   ]
  },
  {
   "cell_type": "code",
   "execution_count": 18,
   "id": "769aa208",
   "metadata": {},
   "outputs": [
    {
     "data": {
      "text/html": [
       "<div>\n",
       "<style scoped>\n",
       "    .dataframe tbody tr th:only-of-type {\n",
       "        vertical-align: middle;\n",
       "    }\n",
       "\n",
       "    .dataframe tbody tr th {\n",
       "        vertical-align: top;\n",
       "    }\n",
       "\n",
       "    .dataframe thead th {\n",
       "        text-align: right;\n",
       "    }\n",
       "</style>\n",
       "<table border=\"1\" class=\"dataframe\">\n",
       "  <thead>\n",
       "    <tr style=\"text-align: right;\">\n",
       "      <th></th>\n",
       "      <th>Note</th>\n",
       "      <th>Description</th>\n",
       "      <th>Description_nlp</th>\n",
       "      <th>Description_stem</th>\n",
       "    </tr>\n",
       "  </thead>\n",
       "  <tbody>\n",
       "    <tr>\n",
       "      <th>0</th>\n",
       "      <td>5,0</td>\n",
       "      <td>Après le chef d'oeuvre super-héroïque The Dark...</td>\n",
       "      <td>[chef, oeuvre, super, héroïque, the, dark, kni...</td>\n",
       "      <td>chef oeuvr sup heroiqu the dark knight christo...</td>\n",
       "    </tr>\n",
       "    <tr>\n",
       "      <th>1</th>\n",
       "      <td>5,0</td>\n",
       "      <td>C’est fou ce qu’on aime détester Christopher N...</td>\n",
       "      <td>[fou, aime, détester, christopher, nolan…plus,...</td>\n",
       "      <td>fou aim detest christoph nolan...plus film sor...</td>\n",
       "    </tr>\n",
       "    <tr>\n",
       "      <th>2</th>\n",
       "      <td>5,0</td>\n",
       "      <td>CHEF D’ŒUVRE ! Le film est absolument parfait ...</td>\n",
       "      <td>[chef, œuvre, film, absolument, parfait, acteu...</td>\n",
       "      <td>chef oeuvr film absolu parf acteur tous excell...</td>\n",
       "    </tr>\n",
       "    <tr>\n",
       "      <th>3</th>\n",
       "      <td>5,0</td>\n",
       "      <td>Un film aussi novateur que complexe, dont la m...</td>\n",
       "      <td>[film, aussi, novateur, complexe, dont, mise, ...</td>\n",
       "      <td>film auss novateur complex dont mis scen touch...</td>\n",
       "    </tr>\n",
       "    <tr>\n",
       "      <th>4</th>\n",
       "      <td>3,5</td>\n",
       "      <td>Le meilleur blockbuster de 2010 a pour thème l...</td>\n",
       "      <td>[meilleur, blockbuster, thème, délicate, diffé...</td>\n",
       "      <td>meilleur blockbust them delicat differenci ent...</td>\n",
       "    </tr>\n",
       "  </tbody>\n",
       "</table>\n",
       "</div>"
      ],
      "text/plain": [
       "  Note                                        Description  \\\n",
       "0  5,0  Après le chef d'oeuvre super-héroïque The Dark...   \n",
       "1  5,0  C’est fou ce qu’on aime détester Christopher N...   \n",
       "2  5,0  CHEF D’ŒUVRE ! Le film est absolument parfait ...   \n",
       "3  5,0  Un film aussi novateur que complexe, dont la m...   \n",
       "4  3,5  Le meilleur blockbuster de 2010 a pour thème l...   \n",
       "\n",
       "                                     Description_nlp  \\\n",
       "0  [chef, oeuvre, super, héroïque, the, dark, kni...   \n",
       "1  [fou, aime, détester, christopher, nolan…plus,...   \n",
       "2  [chef, œuvre, film, absolument, parfait, acteu...   \n",
       "3  [film, aussi, novateur, complexe, dont, mise, ...   \n",
       "4  [meilleur, blockbuster, thème, délicate, diffé...   \n",
       "\n",
       "                                    Description_stem  \n",
       "0  chef oeuvr sup heroiqu the dark knight christo...  \n",
       "1  fou aim detest christoph nolan...plus film sor...  \n",
       "2  chef oeuvr film absolu parf acteur tous excell...  \n",
       "3  film auss novateur complex dont mis scen touch...  \n",
       "4  meilleur blockbust them delicat differenci ent...  "
      ]
     },
     "execution_count": 18,
     "metadata": {},
     "output_type": "execute_result"
    }
   ],
   "source": [
    "#supprime les accents et les emoticon\n",
    "import unidecode\n",
    "f2 = lambda x: ' '.join(filter(None,unidecode.unidecode(x).split(' ')))\n",
    "\n",
    "df[\"Description_stem\"] = df[\"Description_stem\"].apply(f2)\n",
    "df.head()"
   ]
  },
  {
   "cell_type": "code",
   "execution_count": 19,
   "id": "3c2ed75a",
   "metadata": {
    "scrolled": false
   },
   "outputs": [
    {
     "name": "stdout",
     "output_type": "stream",
     "text": [
      "130 excellent second film encor meilleur premi tant fan sonic ador multitud emot tout long ennui seul second film voir vo selon cepend\n"
     ]
    }
   ],
   "source": [
    "texte = df.iloc[7241,3]\n",
    "print(len(texte), texte)"
   ]
  },
  {
   "cell_type": "code",
   "execution_count": null,
   "id": "90bf2b66",
   "metadata": {},
   "outputs": [],
   "source": []
  },
  {
   "cell_type": "markdown",
   "id": "b7d29ded",
   "metadata": {},
   "source": [
    "## Etape 3 : Préparation des libellés"
   ]
  },
  {
   "cell_type": "code",
   "execution_count": 20,
   "id": "e4d20242",
   "metadata": {
    "scrolled": false
   },
   "outputs": [
    {
     "data": {
      "text/html": [
       "<div>\n",
       "<style scoped>\n",
       "    .dataframe tbody tr th:only-of-type {\n",
       "        vertical-align: middle;\n",
       "    }\n",
       "\n",
       "    .dataframe tbody tr th {\n",
       "        vertical-align: top;\n",
       "    }\n",
       "\n",
       "    .dataframe thead th {\n",
       "        text-align: right;\n",
       "    }\n",
       "</style>\n",
       "<table border=\"1\" class=\"dataframe\">\n",
       "  <thead>\n",
       "    <tr style=\"text-align: right;\">\n",
       "      <th></th>\n",
       "      <th>Note</th>\n",
       "      <th>Description</th>\n",
       "      <th>Description_nlp</th>\n",
       "      <th>Description_stem</th>\n",
       "    </tr>\n",
       "  </thead>\n",
       "  <tbody>\n",
       "    <tr>\n",
       "      <th>0</th>\n",
       "      <td>5.0</td>\n",
       "      <td>Après le chef d'oeuvre super-héroïque The Dark...</td>\n",
       "      <td>[chef, oeuvre, super, héroïque, the, dark, kni...</td>\n",
       "      <td>chef oeuvr sup heroiqu the dark knight christo...</td>\n",
       "    </tr>\n",
       "    <tr>\n",
       "      <th>1</th>\n",
       "      <td>5.0</td>\n",
       "      <td>C’est fou ce qu’on aime détester Christopher N...</td>\n",
       "      <td>[fou, aime, détester, christopher, nolan…plus,...</td>\n",
       "      <td>fou aim detest christoph nolan...plus film sor...</td>\n",
       "    </tr>\n",
       "    <tr>\n",
       "      <th>2</th>\n",
       "      <td>5.0</td>\n",
       "      <td>CHEF D’ŒUVRE ! Le film est absolument parfait ...</td>\n",
       "      <td>[chef, œuvre, film, absolument, parfait, acteu...</td>\n",
       "      <td>chef oeuvr film absolu parf acteur tous excell...</td>\n",
       "    </tr>\n",
       "    <tr>\n",
       "      <th>3</th>\n",
       "      <td>5.0</td>\n",
       "      <td>Un film aussi novateur que complexe, dont la m...</td>\n",
       "      <td>[film, aussi, novateur, complexe, dont, mise, ...</td>\n",
       "      <td>film auss novateur complex dont mis scen touch...</td>\n",
       "    </tr>\n",
       "    <tr>\n",
       "      <th>4</th>\n",
       "      <td>3.5</td>\n",
       "      <td>Le meilleur blockbuster de 2010 a pour thème l...</td>\n",
       "      <td>[meilleur, blockbuster, thème, délicate, diffé...</td>\n",
       "      <td>meilleur blockbust them delicat differenci ent...</td>\n",
       "    </tr>\n",
       "  </tbody>\n",
       "</table>\n",
       "</div>"
      ],
      "text/plain": [
       "   Note                                        Description  \\\n",
       "0   5.0  Après le chef d'oeuvre super-héroïque The Dark...   \n",
       "1   5.0  C’est fou ce qu’on aime détester Christopher N...   \n",
       "2   5.0  CHEF D’ŒUVRE ! Le film est absolument parfait ...   \n",
       "3   5.0  Un film aussi novateur que complexe, dont la m...   \n",
       "4   3.5  Le meilleur blockbuster de 2010 a pour thème l...   \n",
       "\n",
       "                                     Description_nlp  \\\n",
       "0  [chef, oeuvre, super, héroïque, the, dark, kni...   \n",
       "1  [fou, aime, détester, christopher, nolan…plus,...   \n",
       "2  [chef, œuvre, film, absolument, parfait, acteu...   \n",
       "3  [film, aussi, novateur, complexe, dont, mise, ...   \n",
       "4  [meilleur, blockbuster, thème, délicate, diffé...   \n",
       "\n",
       "                                    Description_stem  \n",
       "0  chef oeuvr sup heroiqu the dark knight christo...  \n",
       "1  fou aim detest christoph nolan...plus film sor...  \n",
       "2  chef oeuvr film absolu parf acteur tous excell...  \n",
       "3  film auss novateur complex dont mis scen touch...  \n",
       "4  meilleur blockbust them delicat differenci ent...  "
      ]
     },
     "execution_count": 20,
     "metadata": {},
     "output_type": "execute_result"
    }
   ],
   "source": [
    "df[\"Note\"]= df[\"Note\"].str.replace(\",\",\".\").astype(float)\n",
    "df.head()"
   ]
  },
  {
   "cell_type": "code",
   "execution_count": 21,
   "id": "9d625b44",
   "metadata": {
    "scrolled": false
   },
   "outputs": [
    {
     "data": {
      "text/html": [
       "<div>\n",
       "<style scoped>\n",
       "    .dataframe tbody tr th:only-of-type {\n",
       "        vertical-align: middle;\n",
       "    }\n",
       "\n",
       "    .dataframe tbody tr th {\n",
       "        vertical-align: top;\n",
       "    }\n",
       "\n",
       "    .dataframe thead th {\n",
       "        text-align: right;\n",
       "    }\n",
       "</style>\n",
       "<table border=\"1\" class=\"dataframe\">\n",
       "  <thead>\n",
       "    <tr style=\"text-align: right;\">\n",
       "      <th></th>\n",
       "      <th>Note</th>\n",
       "      <th>Description</th>\n",
       "      <th>Description_nlp</th>\n",
       "      <th>Description_stem</th>\n",
       "    </tr>\n",
       "  </thead>\n",
       "  <tbody>\n",
       "    <tr>\n",
       "      <th>0</th>\n",
       "      <td>1</td>\n",
       "      <td>Après le chef d'oeuvre super-héroïque The Dark...</td>\n",
       "      <td>[chef, oeuvre, super, héroïque, the, dark, kni...</td>\n",
       "      <td>chef oeuvr sup heroiqu the dark knight christo...</td>\n",
       "    </tr>\n",
       "    <tr>\n",
       "      <th>1</th>\n",
       "      <td>1</td>\n",
       "      <td>C’est fou ce qu’on aime détester Christopher N...</td>\n",
       "      <td>[fou, aime, détester, christopher, nolan…plus,...</td>\n",
       "      <td>fou aim detest christoph nolan...plus film sor...</td>\n",
       "    </tr>\n",
       "    <tr>\n",
       "      <th>2</th>\n",
       "      <td>1</td>\n",
       "      <td>CHEF D’ŒUVRE ! Le film est absolument parfait ...</td>\n",
       "      <td>[chef, œuvre, film, absolument, parfait, acteu...</td>\n",
       "      <td>chef oeuvr film absolu parf acteur tous excell...</td>\n",
       "    </tr>\n",
       "    <tr>\n",
       "      <th>3</th>\n",
       "      <td>1</td>\n",
       "      <td>Un film aussi novateur que complexe, dont la m...</td>\n",
       "      <td>[film, aussi, novateur, complexe, dont, mise, ...</td>\n",
       "      <td>film auss novateur complex dont mis scen touch...</td>\n",
       "    </tr>\n",
       "    <tr>\n",
       "      <th>4</th>\n",
       "      <td>1</td>\n",
       "      <td>Le meilleur blockbuster de 2010 a pour thème l...</td>\n",
       "      <td>[meilleur, blockbuster, thème, délicate, diffé...</td>\n",
       "      <td>meilleur blockbust them delicat differenci ent...</td>\n",
       "    </tr>\n",
       "  </tbody>\n",
       "</table>\n",
       "</div>"
      ],
      "text/plain": [
       "   Note                                        Description  \\\n",
       "0     1  Après le chef d'oeuvre super-héroïque The Dark...   \n",
       "1     1  C’est fou ce qu’on aime détester Christopher N...   \n",
       "2     1  CHEF D’ŒUVRE ! Le film est absolument parfait ...   \n",
       "3     1  Un film aussi novateur que complexe, dont la m...   \n",
       "4     1  Le meilleur blockbuster de 2010 a pour thème l...   \n",
       "\n",
       "                                     Description_nlp  \\\n",
       "0  [chef, oeuvre, super, héroïque, the, dark, kni...   \n",
       "1  [fou, aime, détester, christopher, nolan…plus,...   \n",
       "2  [chef, œuvre, film, absolument, parfait, acteu...   \n",
       "3  [film, aussi, novateur, complexe, dont, mise, ...   \n",
       "4  [meilleur, blockbuster, thème, délicate, diffé...   \n",
       "\n",
       "                                    Description_stem  \n",
       "0  chef oeuvr sup heroiqu the dark knight christo...  \n",
       "1  fou aim detest christoph nolan...plus film sor...  \n",
       "2  chef oeuvr film absolu parf acteur tous excell...  \n",
       "3  film auss novateur complex dont mis scen touch...  \n",
       "4  meilleur blockbust them delicat differenci ent...  "
      ]
     },
     "execution_count": 21,
     "metadata": {},
     "output_type": "execute_result"
    }
   ],
   "source": [
    "# avis positif : 1, avis négatif : 2\n",
    "f = lambda x: 1 if x>2.5 else 0\n",
    "df['Note'] = df['Note'].map(f)\n",
    "df.head()"
   ]
  },
  {
   "cell_type": "code",
   "execution_count": 22,
   "id": "a628cd9a",
   "metadata": {
    "scrolled": false
   },
   "outputs": [
    {
     "data": {
      "text/plain": [
       "1    6171\n",
       "0    1089\n",
       "Name: Note, dtype: int64"
      ]
     },
     "execution_count": 22,
     "metadata": {},
     "output_type": "execute_result"
    }
   ],
   "source": [
    "df['Note'].value_counts()"
   ]
  },
  {
   "cell_type": "code",
   "execution_count": 23,
   "id": "dd1450d7",
   "metadata": {
    "scrolled": true
   },
   "outputs": [
    {
     "name": "stdout",
     "output_type": "stream",
     "text": [
      "<class 'pandas.core.frame.DataFrame'>\n",
      "RangeIndex: 7260 entries, 0 to 7259\n",
      "Data columns (total 4 columns):\n",
      " #   Column            Non-Null Count  Dtype \n",
      "---  ------            --------------  ----- \n",
      " 0   Note              7260 non-null   int64 \n",
      " 1   Description       7260 non-null   object\n",
      " 2   Description_nlp   7260 non-null   object\n",
      " 3   Description_stem  7260 non-null   object\n",
      "dtypes: int64(1), object(3)\n",
      "memory usage: 227.0+ KB\n"
     ]
    }
   ],
   "source": [
    "df.info()"
   ]
  },
  {
   "cell_type": "markdown",
   "id": "0f9c9be1",
   "metadata": {},
   "source": [
    "- **Séparation du dataset**"
   ]
  },
  {
   "cell_type": "code",
   "execution_count": 24,
   "id": "5d9b4760",
   "metadata": {
    "scrolled": false
   },
   "outputs": [
    {
     "data": {
      "text/html": [
       "<div>\n",
       "<style scoped>\n",
       "    .dataframe tbody tr th:only-of-type {\n",
       "        vertical-align: middle;\n",
       "    }\n",
       "\n",
       "    .dataframe tbody tr th {\n",
       "        vertical-align: top;\n",
       "    }\n",
       "\n",
       "    .dataframe thead th {\n",
       "        text-align: right;\n",
       "    }\n",
       "</style>\n",
       "<table border=\"1\" class=\"dataframe\">\n",
       "  <thead>\n",
       "    <tr style=\"text-align: right;\">\n",
       "      <th></th>\n",
       "      <th>Description_stem</th>\n",
       "    </tr>\n",
       "  </thead>\n",
       "  <tbody>\n",
       "    <tr>\n",
       "      <th>0</th>\n",
       "      <td>chef oeuvr sup heroiqu the dark knight christo...</td>\n",
       "    </tr>\n",
       "    <tr>\n",
       "      <th>1</th>\n",
       "      <td>fou aim detest christoph nolan...plus film sor...</td>\n",
       "    </tr>\n",
       "    <tr>\n",
       "      <th>2</th>\n",
       "      <td>chef oeuvr film absolu parf acteur tous excell...</td>\n",
       "    </tr>\n",
       "    <tr>\n",
       "      <th>3</th>\n",
       "      <td>film auss novateur complex dont mis scen touch...</td>\n",
       "    </tr>\n",
       "    <tr>\n",
       "      <th>4</th>\n",
       "      <td>meilleur blockbust them delicat differenci ent...</td>\n",
       "    </tr>\n",
       "  </tbody>\n",
       "</table>\n",
       "</div>"
      ],
      "text/plain": [
       "                                    Description_stem\n",
       "0  chef oeuvr sup heroiqu the dark knight christo...\n",
       "1  fou aim detest christoph nolan...plus film sor...\n",
       "2  chef oeuvr film absolu parf acteur tous excell...\n",
       "3  film auss novateur complex dont mis scen touch...\n",
       "4  meilleur blockbust them delicat differenci ent..."
      ]
     },
     "execution_count": 24,
     "metadata": {},
     "output_type": "execute_result"
    }
   ],
   "source": [
    "X = df[['Description_stem']]\n",
    "X.head()"
   ]
  },
  {
   "cell_type": "code",
   "execution_count": 25,
   "id": "e2597a63",
   "metadata": {
    "scrolled": true
   },
   "outputs": [
    {
     "data": {
      "text/html": [
       "<div>\n",
       "<style scoped>\n",
       "    .dataframe tbody tr th:only-of-type {\n",
       "        vertical-align: middle;\n",
       "    }\n",
       "\n",
       "    .dataframe tbody tr th {\n",
       "        vertical-align: top;\n",
       "    }\n",
       "\n",
       "    .dataframe thead th {\n",
       "        text-align: right;\n",
       "    }\n",
       "</style>\n",
       "<table border=\"1\" class=\"dataframe\">\n",
       "  <thead>\n",
       "    <tr style=\"text-align: right;\">\n",
       "      <th></th>\n",
       "      <th>Note</th>\n",
       "    </tr>\n",
       "  </thead>\n",
       "  <tbody>\n",
       "    <tr>\n",
       "      <th>0</th>\n",
       "      <td>1</td>\n",
       "    </tr>\n",
       "    <tr>\n",
       "      <th>1</th>\n",
       "      <td>1</td>\n",
       "    </tr>\n",
       "    <tr>\n",
       "      <th>2</th>\n",
       "      <td>1</td>\n",
       "    </tr>\n",
       "    <tr>\n",
       "      <th>3</th>\n",
       "      <td>1</td>\n",
       "    </tr>\n",
       "    <tr>\n",
       "      <th>4</th>\n",
       "      <td>1</td>\n",
       "    </tr>\n",
       "  </tbody>\n",
       "</table>\n",
       "</div>"
      ],
      "text/plain": [
       "   Note\n",
       "0     1\n",
       "1     1\n",
       "2     1\n",
       "3     1\n",
       "4     1"
      ]
     },
     "execution_count": 25,
     "metadata": {},
     "output_type": "execute_result"
    }
   ],
   "source": [
    "y = df[['Note']]\n",
    "y.head()"
   ]
  },
  {
   "cell_type": "markdown",
   "id": "63049803",
   "metadata": {},
   "source": [
    "## Etape 2 (suite) :"
   ]
  },
  {
   "cell_type": "markdown",
   "id": "6206edea",
   "metadata": {},
   "source": [
    "### 3) Bag of word : Des sacs de mots afin de « transformer » nos mots en nombres qui pourront alors être exploités dans un algorithme de Machine learning\n"
   ]
  },
  {
   "cell_type": "code",
   "execution_count": 26,
   "id": "1280a5a9",
   "metadata": {},
   "outputs": [
    {
     "data": {
      "text/plain": [
       "((5808, 1), (5808, 1), (1452, 1), (1452, 1))"
      ]
     },
     "execution_count": 26,
     "metadata": {},
     "output_type": "execute_result"
    }
   ],
   "source": [
    "from sklearn.model_selection import train_test_split\n",
    "\n",
    "X_train, X_test, y_train, y_test = train_test_split(X,y, test_size=0.2, random_state=0)\n",
    "X_train.shape, y_train.shape, X_test.shape, y_test.shape"
   ]
  },
  {
   "cell_type": "markdown",
   "id": "178d6301",
   "metadata": {},
   "source": [
    "- **Bag of words** : avec nltk.FreqDist, puis CountVectorizer"
   ]
  },
  {
   "cell_type": "code",
   "execution_count": 27,
   "id": "15e4bbba",
   "metadata": {
    "scrolled": false
   },
   "outputs": [
    {
     "name": "stdout",
     "output_type": "stream",
     "text": [
      "nombre de mot dans le sac de mot =  243621\n",
      "fréquence du mot film = 10032\n"
     ]
    }
   ],
   "source": [
    "# je crée une liste de mot séparer pour nltk.FreqDist\n",
    "BW = []\n",
    "for ligne in X_train[\"Description_stem\"]:\n",
    "    BW.extend(ligne.split(' '))\n",
    "print('nombre de mot dans le sac de mot = ',len(BW))\n",
    "# Voir la fréquence du mot \"film\"\n",
    "print('fréquence du mot film =',len(re.findall(r\"film\",' '.join(BW))))"
   ]
  },
  {
   "cell_type": "code",
   "execution_count": 28,
   "id": "401eb172",
   "metadata": {
    "scrolled": true
   },
   "outputs": [
    {
     "name": "stdout",
     "output_type": "stream",
     "text": [
      "nombre de mots= 9817 \n",
      "mot le plus fréquent =  ('film', 9988)\n",
      "nombre de mots apparaissant au min 20x =  1356\n"
     ]
    }
   ],
   "source": [
    "# Fréquence de distribution des valeurs\n",
    "fd = nltk.FreqDist(BW) \n",
    "most_common_element = fd.most_common()\n",
    "\n",
    "# taille du nb de tuple des plus utilisé, je regarde le 1er élément\n",
    "print('nombre de mots=',len(most_common_element),\n",
    "      '\\nmot le plus fréquent = ',most_common_element[0])\n",
    "\n",
    "# je recréer un liste des mots apparaissant plus de 20x, soit 1352, pour comparer avec CountVectorizer\n",
    "liste = [x for x in fd if fd[x] > 20]\n",
    "print('nombre de mots apparaissant au min 20x = ',len(liste))        "
   ]
  },
  {
   "cell_type": "code",
   "execution_count": 29,
   "id": "76e21fe3",
   "metadata": {
    "scrolled": false
   },
   "outputs": [
    {
     "name": "stdout",
     "output_type": "stream",
     "text": [
      "longeur de la liste =  5808\n"
     ]
    }
   ],
   "source": [
    "# 2e approche avec CountVectorizer, qui va garder les valeurs les plus féquentes\n",
    "# Je crée un liste de phrase\n",
    "sm = [ligne for ligne in X_train[\"Description_stem\"]]\n",
    "print('longeur de la liste = ',len(sm))"
   ]
  },
  {
   "cell_type": "code",
   "execution_count": 30,
   "id": "545194fc",
   "metadata": {
    "scrolled": true
   },
   "outputs": [
    {
     "name": "stdout",
     "output_type": "stream",
     "text": [
      "nombre de mots apparaissant au min 20x =  1350\n"
     ]
    }
   ],
   "source": [
    "from sklearn.feature_extraction.text import CountVectorizer\n",
    "# Pour créer un Count Vectorizer, il suffit d'en instancier un.\n",
    "# Il existe des paramètres spéciaux que nous pouvons définir ici lors de la création du vectoriseur, mais pour l'exemple le plus basique, ce n'est pas nécessaire.\n",
    "vectorizer = CountVectorizer(min_df=20)\n",
    "count_vector = vectorizer.fit(sm)\n",
    "print('nombre de mots apparaissant au min 20x = ', len(count_vector.vocabulary_))\n",
    "# j'obtient une liste de 1349 mots utilisé au minimum 20x, léger écart de 3 avec l'autre méthode\n",
    "\n",
    "# !! sort un dictionnaire de position dans la liste du mot, pas sa frequence\n",
    "#print(count_vector.vocabulary_)"
   ]
  },
  {
   "cell_type": "markdown",
   "id": "d3358b13",
   "metadata": {},
   "source": [
    "## Etape 4 : Finalisation de nos jeux de données"
   ]
  },
  {
   "cell_type": "code",
   "execution_count": 31,
   "id": "348125cc",
   "metadata": {
    "scrolled": true
   },
   "outputs": [
    {
     "data": {
      "text/plain": [
       "array([[0, 0, 0, ..., 0, 0, 0],\n",
       "       [0, 0, 0, ..., 0, 0, 0],\n",
       "       [0, 0, 0, ..., 0, 0, 0],\n",
       "       ...,\n",
       "       [0, 0, 0, ..., 0, 0, 0],\n",
       "       [0, 0, 0, ..., 0, 0, 0],\n",
       "       [0, 0, 0, ..., 0, 0, 0]], dtype=int64)"
      ]
     },
     "execution_count": 31,
     "metadata": {},
     "output_type": "execute_result"
    }
   ],
   "source": [
    "X_train_vec = vectorizer.transform(X_train['Description_stem']).toarray()\n",
    "X_train_vec"
   ]
  },
  {
   "cell_type": "code",
   "execution_count": 32,
   "id": "b2f34797",
   "metadata": {
    "scrolled": true
   },
   "outputs": [
    {
     "data": {
      "text/html": [
       "<div>\n",
       "<style scoped>\n",
       "    .dataframe tbody tr th:only-of-type {\n",
       "        vertical-align: middle;\n",
       "    }\n",
       "\n",
       "    .dataframe tbody tr th {\n",
       "        vertical-align: top;\n",
       "    }\n",
       "\n",
       "    .dataframe thead th {\n",
       "        text-align: right;\n",
       "    }\n",
       "</style>\n",
       "<table border=\"1\" class=\"dataframe\">\n",
       "  <thead>\n",
       "    <tr style=\"text-align: right;\">\n",
       "      <th></th>\n",
       "      <th>abord</th>\n",
       "      <th>about</th>\n",
       "      <th>absolu</th>\n",
       "      <th>accept</th>\n",
       "      <th>accessibl</th>\n",
       "      <th>accompagn</th>\n",
       "      <th>accord</th>\n",
       "      <th>accroch</th>\n",
       "      <th>acteur</th>\n",
       "      <th>action</th>\n",
       "      <th>...</th>\n",
       "      <th>vont</th>\n",
       "      <th>voul</th>\n",
       "      <th>vouloir</th>\n",
       "      <th>voulu</th>\n",
       "      <th>voyag</th>\n",
       "      <th>vrai</th>\n",
       "      <th>vu</th>\n",
       "      <th>watanab</th>\n",
       "      <th>yeux</th>\n",
       "      <th>zimm</th>\n",
       "    </tr>\n",
       "  </thead>\n",
       "  <tbody>\n",
       "    <tr>\n",
       "      <th>4189</th>\n",
       "      <td>0</td>\n",
       "      <td>0</td>\n",
       "      <td>0</td>\n",
       "      <td>0</td>\n",
       "      <td>0</td>\n",
       "      <td>0</td>\n",
       "      <td>0</td>\n",
       "      <td>0</td>\n",
       "      <td>0</td>\n",
       "      <td>0</td>\n",
       "      <td>...</td>\n",
       "      <td>0</td>\n",
       "      <td>0</td>\n",
       "      <td>0</td>\n",
       "      <td>0</td>\n",
       "      <td>0</td>\n",
       "      <td>0</td>\n",
       "      <td>0</td>\n",
       "      <td>0</td>\n",
       "      <td>0</td>\n",
       "      <td>0</td>\n",
       "    </tr>\n",
       "    <tr>\n",
       "      <th>2095</th>\n",
       "      <td>0</td>\n",
       "      <td>0</td>\n",
       "      <td>0</td>\n",
       "      <td>0</td>\n",
       "      <td>0</td>\n",
       "      <td>0</td>\n",
       "      <td>0</td>\n",
       "      <td>0</td>\n",
       "      <td>0</td>\n",
       "      <td>0</td>\n",
       "      <td>...</td>\n",
       "      <td>0</td>\n",
       "      <td>0</td>\n",
       "      <td>0</td>\n",
       "      <td>0</td>\n",
       "      <td>0</td>\n",
       "      <td>0</td>\n",
       "      <td>0</td>\n",
       "      <td>0</td>\n",
       "      <td>0</td>\n",
       "      <td>0</td>\n",
       "    </tr>\n",
       "    <tr>\n",
       "      <th>776</th>\n",
       "      <td>0</td>\n",
       "      <td>0</td>\n",
       "      <td>0</td>\n",
       "      <td>0</td>\n",
       "      <td>0</td>\n",
       "      <td>0</td>\n",
       "      <td>0</td>\n",
       "      <td>0</td>\n",
       "      <td>0</td>\n",
       "      <td>0</td>\n",
       "      <td>...</td>\n",
       "      <td>0</td>\n",
       "      <td>0</td>\n",
       "      <td>0</td>\n",
       "      <td>0</td>\n",
       "      <td>0</td>\n",
       "      <td>0</td>\n",
       "      <td>1</td>\n",
       "      <td>0</td>\n",
       "      <td>0</td>\n",
       "      <td>0</td>\n",
       "    </tr>\n",
       "    <tr>\n",
       "      <th>7231</th>\n",
       "      <td>0</td>\n",
       "      <td>0</td>\n",
       "      <td>0</td>\n",
       "      <td>0</td>\n",
       "      <td>0</td>\n",
       "      <td>0</td>\n",
       "      <td>0</td>\n",
       "      <td>0</td>\n",
       "      <td>0</td>\n",
       "      <td>0</td>\n",
       "      <td>...</td>\n",
       "      <td>0</td>\n",
       "      <td>0</td>\n",
       "      <td>0</td>\n",
       "      <td>0</td>\n",
       "      <td>0</td>\n",
       "      <td>0</td>\n",
       "      <td>0</td>\n",
       "      <td>0</td>\n",
       "      <td>0</td>\n",
       "      <td>0</td>\n",
       "    </tr>\n",
       "    <tr>\n",
       "      <th>4627</th>\n",
       "      <td>0</td>\n",
       "      <td>0</td>\n",
       "      <td>0</td>\n",
       "      <td>0</td>\n",
       "      <td>0</td>\n",
       "      <td>0</td>\n",
       "      <td>0</td>\n",
       "      <td>0</td>\n",
       "      <td>1</td>\n",
       "      <td>0</td>\n",
       "      <td>...</td>\n",
       "      <td>0</td>\n",
       "      <td>0</td>\n",
       "      <td>0</td>\n",
       "      <td>0</td>\n",
       "      <td>0</td>\n",
       "      <td>2</td>\n",
       "      <td>0</td>\n",
       "      <td>0</td>\n",
       "      <td>0</td>\n",
       "      <td>0</td>\n",
       "    </tr>\n",
       "    <tr>\n",
       "      <th>...</th>\n",
       "      <td>...</td>\n",
       "      <td>...</td>\n",
       "      <td>...</td>\n",
       "      <td>...</td>\n",
       "      <td>...</td>\n",
       "      <td>...</td>\n",
       "      <td>...</td>\n",
       "      <td>...</td>\n",
       "      <td>...</td>\n",
       "      <td>...</td>\n",
       "      <td>...</td>\n",
       "      <td>...</td>\n",
       "      <td>...</td>\n",
       "      <td>...</td>\n",
       "      <td>...</td>\n",
       "      <td>...</td>\n",
       "      <td>...</td>\n",
       "      <td>...</td>\n",
       "      <td>...</td>\n",
       "      <td>...</td>\n",
       "      <td>...</td>\n",
       "    </tr>\n",
       "    <tr>\n",
       "      <th>4931</th>\n",
       "      <td>0</td>\n",
       "      <td>0</td>\n",
       "      <td>0</td>\n",
       "      <td>0</td>\n",
       "      <td>0</td>\n",
       "      <td>0</td>\n",
       "      <td>0</td>\n",
       "      <td>0</td>\n",
       "      <td>0</td>\n",
       "      <td>0</td>\n",
       "      <td>...</td>\n",
       "      <td>0</td>\n",
       "      <td>0</td>\n",
       "      <td>0</td>\n",
       "      <td>0</td>\n",
       "      <td>0</td>\n",
       "      <td>0</td>\n",
       "      <td>0</td>\n",
       "      <td>0</td>\n",
       "      <td>0</td>\n",
       "      <td>0</td>\n",
       "    </tr>\n",
       "    <tr>\n",
       "      <th>3264</th>\n",
       "      <td>0</td>\n",
       "      <td>0</td>\n",
       "      <td>0</td>\n",
       "      <td>0</td>\n",
       "      <td>0</td>\n",
       "      <td>0</td>\n",
       "      <td>0</td>\n",
       "      <td>0</td>\n",
       "      <td>0</td>\n",
       "      <td>0</td>\n",
       "      <td>...</td>\n",
       "      <td>0</td>\n",
       "      <td>0</td>\n",
       "      <td>0</td>\n",
       "      <td>0</td>\n",
       "      <td>0</td>\n",
       "      <td>0</td>\n",
       "      <td>0</td>\n",
       "      <td>0</td>\n",
       "      <td>0</td>\n",
       "      <td>0</td>\n",
       "    </tr>\n",
       "    <tr>\n",
       "      <th>1653</th>\n",
       "      <td>0</td>\n",
       "      <td>0</td>\n",
       "      <td>0</td>\n",
       "      <td>0</td>\n",
       "      <td>0</td>\n",
       "      <td>0</td>\n",
       "      <td>0</td>\n",
       "      <td>0</td>\n",
       "      <td>1</td>\n",
       "      <td>1</td>\n",
       "      <td>...</td>\n",
       "      <td>0</td>\n",
       "      <td>0</td>\n",
       "      <td>0</td>\n",
       "      <td>0</td>\n",
       "      <td>0</td>\n",
       "      <td>1</td>\n",
       "      <td>0</td>\n",
       "      <td>0</td>\n",
       "      <td>0</td>\n",
       "      <td>0</td>\n",
       "    </tr>\n",
       "    <tr>\n",
       "      <th>2607</th>\n",
       "      <td>0</td>\n",
       "      <td>0</td>\n",
       "      <td>0</td>\n",
       "      <td>0</td>\n",
       "      <td>0</td>\n",
       "      <td>0</td>\n",
       "      <td>0</td>\n",
       "      <td>0</td>\n",
       "      <td>0</td>\n",
       "      <td>0</td>\n",
       "      <td>...</td>\n",
       "      <td>0</td>\n",
       "      <td>0</td>\n",
       "      <td>0</td>\n",
       "      <td>0</td>\n",
       "      <td>0</td>\n",
       "      <td>0</td>\n",
       "      <td>0</td>\n",
       "      <td>0</td>\n",
       "      <td>0</td>\n",
       "      <td>0</td>\n",
       "    </tr>\n",
       "    <tr>\n",
       "      <th>2732</th>\n",
       "      <td>0</td>\n",
       "      <td>0</td>\n",
       "      <td>0</td>\n",
       "      <td>0</td>\n",
       "      <td>0</td>\n",
       "      <td>0</td>\n",
       "      <td>0</td>\n",
       "      <td>0</td>\n",
       "      <td>0</td>\n",
       "      <td>0</td>\n",
       "      <td>...</td>\n",
       "      <td>0</td>\n",
       "      <td>0</td>\n",
       "      <td>0</td>\n",
       "      <td>0</td>\n",
       "      <td>0</td>\n",
       "      <td>0</td>\n",
       "      <td>0</td>\n",
       "      <td>0</td>\n",
       "      <td>0</td>\n",
       "      <td>0</td>\n",
       "    </tr>\n",
       "  </tbody>\n",
       "</table>\n",
       "<p>5808 rows × 1350 columns</p>\n",
       "</div>"
      ],
      "text/plain": [
       "      abord  about  absolu  accept  accessibl  accompagn  accord  accroch  \\\n",
       "4189      0      0       0       0          0          0       0        0   \n",
       "2095      0      0       0       0          0          0       0        0   \n",
       "776       0      0       0       0          0          0       0        0   \n",
       "7231      0      0       0       0          0          0       0        0   \n",
       "4627      0      0       0       0          0          0       0        0   \n",
       "...     ...    ...     ...     ...        ...        ...     ...      ...   \n",
       "4931      0      0       0       0          0          0       0        0   \n",
       "3264      0      0       0       0          0          0       0        0   \n",
       "1653      0      0       0       0          0          0       0        0   \n",
       "2607      0      0       0       0          0          0       0        0   \n",
       "2732      0      0       0       0          0          0       0        0   \n",
       "\n",
       "      acteur  action  ...  vont  voul  vouloir  voulu  voyag  vrai  vu  \\\n",
       "4189       0       0  ...     0     0        0      0      0     0   0   \n",
       "2095       0       0  ...     0     0        0      0      0     0   0   \n",
       "776        0       0  ...     0     0        0      0      0     0   1   \n",
       "7231       0       0  ...     0     0        0      0      0     0   0   \n",
       "4627       1       0  ...     0     0        0      0      0     2   0   \n",
       "...      ...     ...  ...   ...   ...      ...    ...    ...   ...  ..   \n",
       "4931       0       0  ...     0     0        0      0      0     0   0   \n",
       "3264       0       0  ...     0     0        0      0      0     0   0   \n",
       "1653       1       1  ...     0     0        0      0      0     1   0   \n",
       "2607       0       0  ...     0     0        0      0      0     0   0   \n",
       "2732       0       0  ...     0     0        0      0      0     0   0   \n",
       "\n",
       "      watanab  yeux  zimm  \n",
       "4189        0     0     0  \n",
       "2095        0     0     0  \n",
       "776         0     0     0  \n",
       "7231        0     0     0  \n",
       "4627        0     0     0  \n",
       "...       ...   ...   ...  \n",
       "4931        0     0     0  \n",
       "3264        0     0     0  \n",
       "1653        0     0     0  \n",
       "2607        0     0     0  \n",
       "2732        0     0     0  \n",
       "\n",
       "[5808 rows x 1350 columns]"
      ]
     },
     "execution_count": 32,
     "metadata": {},
     "output_type": "execute_result"
    }
   ],
   "source": [
    "dfX_train_vec = pd.DataFrame(X_train_vec, index = X_train['Description_stem'].index.values, columns = vectorizer.get_feature_names_out())\n",
    "dfX_train_vec"
   ]
  },
  {
   "cell_type": "code",
   "execution_count": 33,
   "id": "e9aae43b",
   "metadata": {
    "scrolled": true
   },
   "outputs": [
    {
     "data": {
      "text/plain": [
       "array([[0, 0, 0, ..., 0, 0, 0],\n",
       "       [0, 0, 0, ..., 0, 0, 1],\n",
       "       [0, 0, 0, ..., 0, 0, 0],\n",
       "       ...,\n",
       "       [0, 0, 0, ..., 0, 0, 0],\n",
       "       [0, 0, 0, ..., 0, 0, 0],\n",
       "       [0, 0, 0, ..., 0, 0, 0]], dtype=int64)"
      ]
     },
     "execution_count": 33,
     "metadata": {},
     "output_type": "execute_result"
    }
   ],
   "source": [
    "X_test_vec = vectorizer.transform(X_test['Description_stem']).toarray()\n",
    "X_test_vec"
   ]
  },
  {
   "cell_type": "code",
   "execution_count": 34,
   "id": "735c5323",
   "metadata": {
    "scrolled": true
   },
   "outputs": [],
   "source": [
    "# fusion du jeu d'entrainement pour le WordCloud\n",
    "df_wc = pd.concat([X_train, y_train], axis = 1)\n",
    "df_wc0 = df_wc[df_wc.Note.eq(0)]\n",
    "df_wc1 = df_wc[df_wc.Note.eq(1)]"
   ]
  },
  {
   "cell_type": "markdown",
   "id": "601d77b2",
   "metadata": {},
   "source": [
    "- **Word Cloud sur les avis négatifs**"
   ]
  },
  {
   "cell_type": "code",
   "execution_count": 35,
   "id": "b75c667d",
   "metadata": {
    "scrolled": true
   },
   "outputs": [
    {
     "name": "stdout",
     "output_type": "stream",
     "text": [
      "<wordcloud.wordcloud.WordCloud object at 0x00000131783A09D0>\n"
     ]
    },
    {
     "data": {
      "image/png": "[encoded data removed]",
      "text/plain": [
       "<Figure size 720x576 with 1 Axes>"
      ]
     },
     "metadata": {
      "needs_background": "light"
     },
     "output_type": "display_data"
    }
   ],
   "source": [
    "# Word Cloud Négatif\n",
    "# Visualisation graphique en nuage de mots des 100 termes les plus utilisés, avec WordCloud\n",
    "from wordcloud import WordCloud\n",
    "from nltk.corpus import stopwords\n",
    "import matplotlib.pyplot as plt\n",
    "\n",
    "plt.figure(figsize=(10,8))\n",
    "WC=WordCloud(background_color = 'white',\n",
    "             stopwords = french_stopwords,\n",
    "             max_words = 100).generate(str(df_wc0['Description_stem']))\n",
    "\n",
    "print(WC)\n",
    "plt.imshow(WC)\n",
    "plt.axis(\"off\")\n",
    "plt.show()"
   ]
  },
  {
   "cell_type": "markdown",
   "id": "ffa532ab",
   "metadata": {},
   "source": [
    "- **Word Cloud sur les avis positifs**"
   ]
  },
  {
   "cell_type": "code",
   "execution_count": 36,
   "id": "92f27958",
   "metadata": {
    "scrolled": false
   },
   "outputs": [
    {
     "name": "stdout",
     "output_type": "stream",
     "text": [
      "<wordcloud.wordcloud.WordCloud object at 0x00000131021D2250>\n"
     ]
    },
    {
     "data": {
      "image/png": "[encoded data removed]",
      "text/plain": [
       "<Figure size 720x576 with 1 Axes>"
      ]
     },
     "metadata": {
      "needs_background": "light"
     },
     "output_type": "display_data"
    }
   ],
   "source": [
    "# Word Cloud sur les  Positif\n",
    "# Visualisation graphique en nuage de mots des 100 termes les plus utilisés, avec WordCloud\n",
    "from wordcloud import WordCloud\n",
    "from nltk.corpus import stopwords\n",
    "import matplotlib.pyplot as plt\n",
    "\n",
    "plt.figure(figsize=(10,8))\n",
    "WC=WordCloud(background_color = 'white',\n",
    "             stopwords = french_stopwords,\n",
    "             max_words = 100).generate(str(df_wc1['Description_stem']))\n",
    "\n",
    "print(WC)\n",
    "plt.imshow(WC)\n",
    "plt.axis(\"off\")\n",
    "plt.show()"
   ]
  },
  {
   "cell_type": "markdown",
   "id": "c2fda464",
   "metadata": {},
   "source": [
    "## Etape 5 : Entraînement du modèle"
   ]
  },
  {
   "cell_type": "code",
   "execution_count": 37,
   "id": "e92e2fd1",
   "metadata": {},
   "outputs": [
    {
     "data": {
      "text/plain": [
       "((5808,), (1452,))"
      ]
     },
     "execution_count": 37,
     "metadata": {},
     "output_type": "execute_result"
    }
   ],
   "source": [
    "# redimensionnement des targets pour la régression logistique\n",
    "y_train = y_train.values.ravel()\n",
    "y_test = y_test.values.ravel()\n",
    "y_train.shape, y_test.shape"
   ]
  },
  {
   "cell_type": "code",
   "execution_count": 38,
   "id": "1d455e70",
   "metadata": {
    "scrolled": true
   },
   "outputs": [
    {
     "name": "stdout",
     "output_type": "stream",
     "text": [
      "Précision pour C=0.01: 0.8815\n",
      "Précision pour C=0.05: 0.9098\n",
      "Précision pour C=0.25: 0.9242\n",
      "Précision pour C=0.5: 0.9236\n",
      "Précision pour C=1: 0.9208\n"
     ]
    }
   ],
   "source": [
    "from sklearn.linear_model import LogisticRegression\n",
    "from sklearn.metrics import accuracy_score\n",
    "#Trouve le meilleur hyperparametre c (régularisation)\n",
    "for c in [0.01, 0.05, 0.25, 0.5, 1]:\n",
    "    lr = LogisticRegression(C=c,solver='liblinear', random_state=0, max_iter=150)\n",
    "    lr.fit(X_train_vec, y_train)\n",
    "    y_pred_test = lr.predict(X_test_vec)\n",
    "    print (\"Précision pour C=%s: %s\" % (c, round(accuracy_score(y_test, y_pred_test),4)))"
   ]
  },
  {
   "cell_type": "code",
   "execution_count": 39,
   "id": "ea465053",
   "metadata": {},
   "outputs": [
    {
     "name": "stdout",
     "output_type": "stream",
     "text": [
      "[1 1 1 ... 0 1 1]\n",
      "[1 1 1 ... 1 1 1]\n"
     ]
    }
   ],
   "source": [
    "# Créer votre modèle de régression logistique et entraînez le sur les données d'entraînement\n",
    "from sklearn.linear_model import LogisticRegression\n",
    "logreg = LogisticRegression(C=0.25,solver='liblinear', random_state=0, max_iter=15)\n",
    "# entrainement du model\n",
    "logreg.fit(X_train_vec, y_train)\n",
    "# Predire les résultats du modèle sur l'ensemble du test\n",
    "y_pred_test = logreg.predict(X_test_vec)\n",
    "print(y_pred_test)\n",
    "print(y_test)"
   ]
  },
  {
   "cell_type": "code",
   "execution_count": 40,
   "id": "576ed81c",
   "metadata": {},
   "outputs": [
    {
     "data": {
      "text/html": [
       "<div>\n",
       "<style scoped>\n",
       "    .dataframe tbody tr th:only-of-type {\n",
       "        vertical-align: middle;\n",
       "    }\n",
       "\n",
       "    .dataframe tbody tr th {\n",
       "        vertical-align: top;\n",
       "    }\n",
       "\n",
       "    .dataframe thead th {\n",
       "        text-align: right;\n",
       "    }\n",
       "</style>\n",
       "<table border=\"1\" class=\"dataframe\">\n",
       "  <thead>\n",
       "    <tr style=\"text-align: right;\">\n",
       "      <th></th>\n",
       "      <th>0</th>\n",
       "      <th>1</th>\n",
       "    </tr>\n",
       "  </thead>\n",
       "  <tbody>\n",
       "    <tr>\n",
       "      <th>0</th>\n",
       "      <td>0.061</td>\n",
       "      <td>0.939</td>\n",
       "    </tr>\n",
       "    <tr>\n",
       "      <th>1</th>\n",
       "      <td>0.005</td>\n",
       "      <td>0.995</td>\n",
       "    </tr>\n",
       "    <tr>\n",
       "      <th>2</th>\n",
       "      <td>0.438</td>\n",
       "      <td>0.562</td>\n",
       "    </tr>\n",
       "    <tr>\n",
       "      <th>3</th>\n",
       "      <td>0.029</td>\n",
       "      <td>0.971</td>\n",
       "    </tr>\n",
       "    <tr>\n",
       "      <th>4</th>\n",
       "      <td>0.159</td>\n",
       "      <td>0.841</td>\n",
       "    </tr>\n",
       "    <tr>\n",
       "      <th>...</th>\n",
       "      <td>...</td>\n",
       "      <td>...</td>\n",
       "    </tr>\n",
       "    <tr>\n",
       "      <th>1447</th>\n",
       "      <td>0.035</td>\n",
       "      <td>0.965</td>\n",
       "    </tr>\n",
       "    <tr>\n",
       "      <th>1448</th>\n",
       "      <td>0.016</td>\n",
       "      <td>0.984</td>\n",
       "    </tr>\n",
       "    <tr>\n",
       "      <th>1449</th>\n",
       "      <td>0.869</td>\n",
       "      <td>0.131</td>\n",
       "    </tr>\n",
       "    <tr>\n",
       "      <th>1450</th>\n",
       "      <td>0.008</td>\n",
       "      <td>0.992</td>\n",
       "    </tr>\n",
       "    <tr>\n",
       "      <th>1451</th>\n",
       "      <td>0.130</td>\n",
       "      <td>0.870</td>\n",
       "    </tr>\n",
       "  </tbody>\n",
       "</table>\n",
       "<p>1452 rows × 2 columns</p>\n",
       "</div>"
      ],
      "text/plain": [
       "          0      1\n",
       "0     0.061  0.939\n",
       "1     0.005  0.995\n",
       "2     0.438  0.562\n",
       "3     0.029  0.971\n",
       "4     0.159  0.841\n",
       "...     ...    ...\n",
       "1447  0.035  0.965\n",
       "1448  0.016  0.984\n",
       "1449  0.869  0.131\n",
       "1450  0.008  0.992\n",
       "1451  0.130  0.870\n",
       "\n",
       "[1452 rows x 2 columns]"
      ]
     },
     "execution_count": 40,
     "metadata": {},
     "output_type": "execute_result"
    }
   ],
   "source": [
    "import numpy as np\n",
    "# Calculer la probabilité que l'avis est positif ou negatif en utilisant la fonction predict_proba sur le jeu de test\n",
    "y_test_proba = np.round_(logreg.predict_proba(X_test_vec),3)\n",
    "# Affichage des probabilité des avis\n",
    "proba = pd.DataFrame(y_test_proba)\n",
    "proba"
   ]
  },
  {
   "cell_type": "markdown",
   "id": "25b3ab8d",
   "metadata": {},
   "source": [
    "## Etape 6 : Analyse des résultats"
   ]
  },
  {
   "cell_type": "code",
   "execution_count": 41,
   "id": "cbc3c8f4",
   "metadata": {},
   "outputs": [
    {
     "name": "stdout",
     "output_type": "stream",
     "text": [
      "Model accuracy score:  0.9242424242424242\n"
     ]
    }
   ],
   "source": [
    "# Afficher l'accuracy score en utilisant la fonction accuracy_score sur le jeu de test\n",
    "from sklearn.metrics import accuracy_score\n",
    "\n",
    "print('Model accuracy score: ',accuracy_score(y_test, y_pred_test))"
   ]
  },
  {
   "cell_type": "code",
   "execution_count": 42,
   "id": "c75ef089",
   "metadata": {},
   "outputs": [],
   "source": [
    "#Afficher la matrice de confusion\n",
    "from sklearn.metrics import confusion_matrix\n",
    "cm = confusion_matrix(y_test, y_pred_test)"
   ]
  },
  {
   "cell_type": "code",
   "execution_count": 43,
   "id": "cea50f5b",
   "metadata": {
    "scrolled": false
   },
   "outputs": [
    {
     "data": {
      "image/png": "[encoded data removed]",
      "text/plain": [
       "<Figure size 576x288 with 2 Axes>"
      ]
     },
     "metadata": {
      "needs_background": "light"
     },
     "output_type": "display_data"
    }
   ],
   "source": [
    "import seaborn as sns\n",
    "plt.figure(figsize=(8, 4))\n",
    "sns.heatmap(cm, annot=True, fmt=\"d\", cmap=\"YlGnBu\")\n",
    "plt.show()"
   ]
  },
  {
   "cell_type": "code",
   "execution_count": null,
   "id": "aac004a6",
   "metadata": {},
   "outputs": [],
   "source": []
  },
  {
   "cell_type": "markdown",
   "id": "4e6c2662",
   "metadata": {},
   "source": [
    "## En sus : TF-IDF est une approche très répandue lorsqu’il s’agit de convertir des phrases en features."
   ]
  },
  {
   "cell_type": "code",
   "execution_count": 44,
   "id": "a48c52f3",
   "metadata": {
    "scrolled": false
   },
   "outputs": [
    {
     "data": {
      "text/html": [
       "<div>\n",
       "<style scoped>\n",
       "    .dataframe tbody tr th:only-of-type {\n",
       "        vertical-align: middle;\n",
       "    }\n",
       "\n",
       "    .dataframe tbody tr th {\n",
       "        vertical-align: top;\n",
       "    }\n",
       "\n",
       "    .dataframe thead th {\n",
       "        text-align: right;\n",
       "    }\n",
       "</style>\n",
       "<table border=\"1\" class=\"dataframe\">\n",
       "  <thead>\n",
       "    <tr style=\"text-align: right;\">\n",
       "      <th></th>\n",
       "      <th>Description_TFIDF</th>\n",
       "    </tr>\n",
       "  </thead>\n",
       "  <tbody>\n",
       "    <tr>\n",
       "      <th>0</th>\n",
       "      <td>chef oeuvre super héroïque the dark knight chr...</td>\n",
       "    </tr>\n",
       "    <tr>\n",
       "      <th>1</th>\n",
       "      <td>fou aime détester christopher nolan…plus films...</td>\n",
       "    </tr>\n",
       "  </tbody>\n",
       "</table>\n",
       "</div>"
      ],
      "text/plain": [
       "                                   Description_TFIDF\n",
       "0  chef oeuvre super héroïque the dark knight chr...\n",
       "1  fou aime détester christopher nolan…plus films..."
      ]
     },
     "execution_count": 44,
     "metadata": {},
     "output_type": "execute_result"
    }
   ],
   "source": [
    "f2 = lambda x: ' '.join(filter(None,(x)))\n",
    "df[\"Description_TFIDF\"] = df[\"Description_nlp\"].apply(f2)\n",
    "X2 = df[['Description_TFIDF']]\n",
    "X2.head(2)"
   ]
  },
  {
   "cell_type": "code",
   "execution_count": 45,
   "id": "21e9aef3",
   "metadata": {
    "scrolled": true
   },
   "outputs": [
    {
     "data": {
      "text/html": [
       "<div>\n",
       "<style scoped>\n",
       "    .dataframe tbody tr th:only-of-type {\n",
       "        vertical-align: middle;\n",
       "    }\n",
       "\n",
       "    .dataframe tbody tr th {\n",
       "        vertical-align: top;\n",
       "    }\n",
       "\n",
       "    .dataframe thead th {\n",
       "        text-align: right;\n",
       "    }\n",
       "</style>\n",
       "<table border=\"1\" class=\"dataframe\">\n",
       "  <thead>\n",
       "    <tr style=\"text-align: right;\">\n",
       "      <th></th>\n",
       "      <th>Note</th>\n",
       "    </tr>\n",
       "  </thead>\n",
       "  <tbody>\n",
       "    <tr>\n",
       "      <th>0</th>\n",
       "      <td>1</td>\n",
       "    </tr>\n",
       "    <tr>\n",
       "      <th>1</th>\n",
       "      <td>1</td>\n",
       "    </tr>\n",
       "  </tbody>\n",
       "</table>\n",
       "</div>"
      ],
      "text/plain": [
       "   Note\n",
       "0     1\n",
       "1     1"
      ]
     },
     "execution_count": 45,
     "metadata": {},
     "output_type": "execute_result"
    }
   ],
   "source": [
    "y2 = df[['Note']]\n",
    "y.head(2)"
   ]
  },
  {
   "cell_type": "code",
   "execution_count": 46,
   "id": "c8f606ca",
   "metadata": {},
   "outputs": [
    {
     "data": {
      "text/plain": [
       "((5808, 1), (5808, 1), (1452, 1), (1452, 1))"
      ]
     },
     "execution_count": 46,
     "metadata": {},
     "output_type": "execute_result"
    }
   ],
   "source": [
    "from sklearn.model_selection import train_test_split\n",
    "\n",
    "X_train2, X_test2, y_train2, y_test2 = train_test_split(X2,y2, test_size=0.2, random_state=0)\n",
    "X_train2.shape, y_train2.shape, X_test2.shape, y_test2.shape"
   ]
  },
  {
   "cell_type": "code",
   "execution_count": 47,
   "id": "6793da2d",
   "metadata": {},
   "outputs": [
    {
     "data": {
      "text/plain": [
       "5808"
      ]
     },
     "execution_count": 47,
     "metadata": {},
     "output_type": "execute_result"
    }
   ],
   "source": [
    "X_train2 = [x for x in X_train2['Description_TFIDF']]\n",
    "len(X_train2)"
   ]
  },
  {
   "cell_type": "code",
   "execution_count": 48,
   "id": "d887a9b1",
   "metadata": {},
   "outputs": [
    {
     "data": {
      "text/plain": [
       "1452"
      ]
     },
     "execution_count": 48,
     "metadata": {},
     "output_type": "execute_result"
    }
   ],
   "source": [
    "X_test2 = [x for x in X_test2['Description_TFIDF']]\n",
    "len(X_test2)"
   ]
  },
  {
   "cell_type": "code",
   "execution_count": 49,
   "id": "f59a236d",
   "metadata": {},
   "outputs": [
    {
     "data": {
      "text/html": [
       "<div>\n",
       "<style scoped>\n",
       "    .dataframe tbody tr th:only-of-type {\n",
       "        vertical-align: middle;\n",
       "    }\n",
       "\n",
       "    .dataframe tbody tr th {\n",
       "        vertical-align: top;\n",
       "    }\n",
       "\n",
       "    .dataframe thead th {\n",
       "        text-align: right;\n",
       "    }\n",
       "</style>\n",
       "<table border=\"1\" class=\"dataframe\">\n",
       "  <thead>\n",
       "    <tr style=\"text-align: right;\">\n",
       "      <th></th>\n",
       "      <th>acteurs</th>\n",
       "      <th>action</th>\n",
       "      <th>aussi</th>\n",
       "      <th>bien</th>\n",
       "      <th>bon</th>\n",
       "      <th>casting</th>\n",
       "      <th>chef</th>\n",
       "      <th>christopher</th>\n",
       "      <th>cinéma</th>\n",
       "      <th>comme</th>\n",
       "      <th>...</th>\n",
       "      <th>spéciaux</th>\n",
       "      <th>tous</th>\n",
       "      <th>tout</th>\n",
       "      <th>trop</th>\n",
       "      <th>très</th>\n",
       "      <th>voir</th>\n",
       "      <th>vraiment</th>\n",
       "      <th>vu</th>\n",
       "      <th>ça</th>\n",
       "      <th>être</th>\n",
       "    </tr>\n",
       "  </thead>\n",
       "  <tbody>\n",
       "    <tr>\n",
       "      <th>0</th>\n",
       "      <td>0.000000</td>\n",
       "      <td>0.000000</td>\n",
       "      <td>0.00000</td>\n",
       "      <td>0.000000</td>\n",
       "      <td>0.000000</td>\n",
       "      <td>0.000000</td>\n",
       "      <td>0.000000</td>\n",
       "      <td>0.000000</td>\n",
       "      <td>0.000000</td>\n",
       "      <td>0.000000</td>\n",
       "      <td>...</td>\n",
       "      <td>0.000000</td>\n",
       "      <td>0.0</td>\n",
       "      <td>0.000000</td>\n",
       "      <td>0.0</td>\n",
       "      <td>0.715059</td>\n",
       "      <td>0.000000</td>\n",
       "      <td>0.000000</td>\n",
       "      <td>0.000000</td>\n",
       "      <td>0.000000</td>\n",
       "      <td>0.000000</td>\n",
       "    </tr>\n",
       "    <tr>\n",
       "      <th>1</th>\n",
       "      <td>0.000000</td>\n",
       "      <td>0.000000</td>\n",
       "      <td>0.00000</td>\n",
       "      <td>0.243495</td>\n",
       "      <td>0.000000</td>\n",
       "      <td>0.000000</td>\n",
       "      <td>0.339081</td>\n",
       "      <td>0.000000</td>\n",
       "      <td>0.000000</td>\n",
       "      <td>0.000000</td>\n",
       "      <td>...</td>\n",
       "      <td>0.300715</td>\n",
       "      <td>0.0</td>\n",
       "      <td>0.000000</td>\n",
       "      <td>0.0</td>\n",
       "      <td>0.000000</td>\n",
       "      <td>0.000000</td>\n",
       "      <td>0.000000</td>\n",
       "      <td>0.000000</td>\n",
       "      <td>0.000000</td>\n",
       "      <td>0.000000</td>\n",
       "    </tr>\n",
       "    <tr>\n",
       "      <th>2</th>\n",
       "      <td>0.000000</td>\n",
       "      <td>0.000000</td>\n",
       "      <td>0.36749</td>\n",
       "      <td>0.511662</td>\n",
       "      <td>0.000000</td>\n",
       "      <td>0.000000</td>\n",
       "      <td>0.000000</td>\n",
       "      <td>0.000000</td>\n",
       "      <td>0.385650</td>\n",
       "      <td>0.000000</td>\n",
       "      <td>...</td>\n",
       "      <td>0.000000</td>\n",
       "      <td>0.0</td>\n",
       "      <td>0.000000</td>\n",
       "      <td>0.0</td>\n",
       "      <td>0.000000</td>\n",
       "      <td>0.000000</td>\n",
       "      <td>0.000000</td>\n",
       "      <td>0.379157</td>\n",
       "      <td>0.371426</td>\n",
       "      <td>0.000000</td>\n",
       "    </tr>\n",
       "    <tr>\n",
       "      <th>3</th>\n",
       "      <td>0.000000</td>\n",
       "      <td>0.000000</td>\n",
       "      <td>0.00000</td>\n",
       "      <td>0.000000</td>\n",
       "      <td>0.377437</td>\n",
       "      <td>0.000000</td>\n",
       "      <td>0.000000</td>\n",
       "      <td>0.000000</td>\n",
       "      <td>0.000000</td>\n",
       "      <td>0.414221</td>\n",
       "      <td>...</td>\n",
       "      <td>0.000000</td>\n",
       "      <td>0.0</td>\n",
       "      <td>0.000000</td>\n",
       "      <td>0.0</td>\n",
       "      <td>0.326070</td>\n",
       "      <td>0.000000</td>\n",
       "      <td>0.000000</td>\n",
       "      <td>0.000000</td>\n",
       "      <td>0.000000</td>\n",
       "      <td>0.000000</td>\n",
       "    </tr>\n",
       "    <tr>\n",
       "      <th>4</th>\n",
       "      <td>0.176956</td>\n",
       "      <td>0.000000</td>\n",
       "      <td>0.00000</td>\n",
       "      <td>0.163830</td>\n",
       "      <td>0.374689</td>\n",
       "      <td>0.244856</td>\n",
       "      <td>0.000000</td>\n",
       "      <td>0.000000</td>\n",
       "      <td>0.246964</td>\n",
       "      <td>0.411205</td>\n",
       "      <td>...</td>\n",
       "      <td>0.202329</td>\n",
       "      <td>0.0</td>\n",
       "      <td>0.159245</td>\n",
       "      <td>0.0</td>\n",
       "      <td>0.000000</td>\n",
       "      <td>0.178363</td>\n",
       "      <td>0.445508</td>\n",
       "      <td>0.000000</td>\n",
       "      <td>0.000000</td>\n",
       "      <td>0.000000</td>\n",
       "    </tr>\n",
       "    <tr>\n",
       "      <th>...</th>\n",
       "      <td>...</td>\n",
       "      <td>...</td>\n",
       "      <td>...</td>\n",
       "      <td>...</td>\n",
       "      <td>...</td>\n",
       "      <td>...</td>\n",
       "      <td>...</td>\n",
       "      <td>...</td>\n",
       "      <td>...</td>\n",
       "      <td>...</td>\n",
       "      <td>...</td>\n",
       "      <td>...</td>\n",
       "      <td>...</td>\n",
       "      <td>...</td>\n",
       "      <td>...</td>\n",
       "      <td>...</td>\n",
       "      <td>...</td>\n",
       "      <td>...</td>\n",
       "      <td>...</td>\n",
       "      <td>...</td>\n",
       "      <td>...</td>\n",
       "    </tr>\n",
       "    <tr>\n",
       "      <th>5803</th>\n",
       "      <td>0.000000</td>\n",
       "      <td>0.000000</td>\n",
       "      <td>0.00000</td>\n",
       "      <td>0.000000</td>\n",
       "      <td>0.000000</td>\n",
       "      <td>0.000000</td>\n",
       "      <td>0.000000</td>\n",
       "      <td>0.446485</td>\n",
       "      <td>0.000000</td>\n",
       "      <td>0.000000</td>\n",
       "      <td>...</td>\n",
       "      <td>0.000000</td>\n",
       "      <td>0.0</td>\n",
       "      <td>0.317746</td>\n",
       "      <td>0.0</td>\n",
       "      <td>0.000000</td>\n",
       "      <td>0.000000</td>\n",
       "      <td>0.000000</td>\n",
       "      <td>0.000000</td>\n",
       "      <td>0.000000</td>\n",
       "      <td>0.000000</td>\n",
       "    </tr>\n",
       "    <tr>\n",
       "      <th>5804</th>\n",
       "      <td>0.000000</td>\n",
       "      <td>0.000000</td>\n",
       "      <td>0.00000</td>\n",
       "      <td>0.000000</td>\n",
       "      <td>0.000000</td>\n",
       "      <td>0.000000</td>\n",
       "      <td>0.509796</td>\n",
       "      <td>0.000000</td>\n",
       "      <td>0.000000</td>\n",
       "      <td>0.000000</td>\n",
       "      <td>...</td>\n",
       "      <td>0.000000</td>\n",
       "      <td>0.0</td>\n",
       "      <td>0.000000</td>\n",
       "      <td>0.0</td>\n",
       "      <td>0.000000</td>\n",
       "      <td>0.398560</td>\n",
       "      <td>0.000000</td>\n",
       "      <td>0.000000</td>\n",
       "      <td>0.000000</td>\n",
       "      <td>0.000000</td>\n",
       "    </tr>\n",
       "    <tr>\n",
       "      <th>5805</th>\n",
       "      <td>0.219476</td>\n",
       "      <td>0.289898</td>\n",
       "      <td>0.00000</td>\n",
       "      <td>0.203196</td>\n",
       "      <td>0.000000</td>\n",
       "      <td>0.000000</td>\n",
       "      <td>0.282962</td>\n",
       "      <td>0.277532</td>\n",
       "      <td>0.000000</td>\n",
       "      <td>0.000000</td>\n",
       "      <td>...</td>\n",
       "      <td>0.250946</td>\n",
       "      <td>0.0</td>\n",
       "      <td>0.395017</td>\n",
       "      <td>0.0</td>\n",
       "      <td>0.200738</td>\n",
       "      <td>0.221221</td>\n",
       "      <td>0.000000</td>\n",
       "      <td>0.000000</td>\n",
       "      <td>0.000000</td>\n",
       "      <td>0.000000</td>\n",
       "    </tr>\n",
       "    <tr>\n",
       "      <th>5806</th>\n",
       "      <td>0.000000</td>\n",
       "      <td>0.000000</td>\n",
       "      <td>0.00000</td>\n",
       "      <td>0.190249</td>\n",
       "      <td>0.000000</td>\n",
       "      <td>0.000000</td>\n",
       "      <td>0.000000</td>\n",
       "      <td>0.000000</td>\n",
       "      <td>0.000000</td>\n",
       "      <td>0.000000</td>\n",
       "      <td>...</td>\n",
       "      <td>0.000000</td>\n",
       "      <td>0.0</td>\n",
       "      <td>0.184924</td>\n",
       "      <td>0.0</td>\n",
       "      <td>0.000000</td>\n",
       "      <td>0.000000</td>\n",
       "      <td>0.000000</td>\n",
       "      <td>0.000000</td>\n",
       "      <td>0.000000</td>\n",
       "      <td>0.263130</td>\n",
       "    </tr>\n",
       "    <tr>\n",
       "      <th>5807</th>\n",
       "      <td>0.000000</td>\n",
       "      <td>0.000000</td>\n",
       "      <td>0.00000</td>\n",
       "      <td>0.000000</td>\n",
       "      <td>0.000000</td>\n",
       "      <td>0.321040</td>\n",
       "      <td>0.000000</td>\n",
       "      <td>0.000000</td>\n",
       "      <td>0.000000</td>\n",
       "      <td>0.000000</td>\n",
       "      <td>...</td>\n",
       "      <td>0.000000</td>\n",
       "      <td>0.0</td>\n",
       "      <td>0.000000</td>\n",
       "      <td>0.0</td>\n",
       "      <td>0.000000</td>\n",
       "      <td>0.000000</td>\n",
       "      <td>0.000000</td>\n",
       "      <td>0.000000</td>\n",
       "      <td>0.000000</td>\n",
       "      <td>0.297092</td>\n",
       "    </tr>\n",
       "  </tbody>\n",
       "</table>\n",
       "<p>5808 rows × 46 columns</p>\n",
       "</div>"
      ],
      "text/plain": [
       "       acteurs    action    aussi      bien       bon   casting      chef  \\\n",
       "0     0.000000  0.000000  0.00000  0.000000  0.000000  0.000000  0.000000   \n",
       "1     0.000000  0.000000  0.00000  0.243495  0.000000  0.000000  0.339081   \n",
       "2     0.000000  0.000000  0.36749  0.511662  0.000000  0.000000  0.000000   \n",
       "3     0.000000  0.000000  0.00000  0.000000  0.377437  0.000000  0.000000   \n",
       "4     0.176956  0.000000  0.00000  0.163830  0.374689  0.244856  0.000000   \n",
       "...        ...       ...      ...       ...       ...       ...       ...   \n",
       "5803  0.000000  0.000000  0.00000  0.000000  0.000000  0.000000  0.000000   \n",
       "5804  0.000000  0.000000  0.00000  0.000000  0.000000  0.000000  0.509796   \n",
       "5805  0.219476  0.289898  0.00000  0.203196  0.000000  0.000000  0.282962   \n",
       "5806  0.000000  0.000000  0.00000  0.190249  0.000000  0.000000  0.000000   \n",
       "5807  0.000000  0.000000  0.00000  0.000000  0.000000  0.321040  0.000000   \n",
       "\n",
       "      christopher    cinéma     comme  ...  spéciaux  tous      tout  trop  \\\n",
       "0        0.000000  0.000000  0.000000  ...  0.000000   0.0  0.000000   0.0   \n",
       "1        0.000000  0.000000  0.000000  ...  0.300715   0.0  0.000000   0.0   \n",
       "2        0.000000  0.385650  0.000000  ...  0.000000   0.0  0.000000   0.0   \n",
       "3        0.000000  0.000000  0.414221  ...  0.000000   0.0  0.000000   0.0   \n",
       "4        0.000000  0.246964  0.411205  ...  0.202329   0.0  0.159245   0.0   \n",
       "...           ...       ...       ...  ...       ...   ...       ...   ...   \n",
       "5803     0.446485  0.000000  0.000000  ...  0.000000   0.0  0.317746   0.0   \n",
       "5804     0.000000  0.000000  0.000000  ...  0.000000   0.0  0.000000   0.0   \n",
       "5805     0.277532  0.000000  0.000000  ...  0.250946   0.0  0.395017   0.0   \n",
       "5806     0.000000  0.000000  0.000000  ...  0.000000   0.0  0.184924   0.0   \n",
       "5807     0.000000  0.000000  0.000000  ...  0.000000   0.0  0.000000   0.0   \n",
       "\n",
       "          très      voir  vraiment        vu        ça      être  \n",
       "0     0.715059  0.000000  0.000000  0.000000  0.000000  0.000000  \n",
       "1     0.000000  0.000000  0.000000  0.000000  0.000000  0.000000  \n",
       "2     0.000000  0.000000  0.000000  0.379157  0.371426  0.000000  \n",
       "3     0.326070  0.000000  0.000000  0.000000  0.000000  0.000000  \n",
       "4     0.000000  0.178363  0.445508  0.000000  0.000000  0.000000  \n",
       "...        ...       ...       ...       ...       ...       ...  \n",
       "5803  0.000000  0.000000  0.000000  0.000000  0.000000  0.000000  \n",
       "5804  0.000000  0.398560  0.000000  0.000000  0.000000  0.000000  \n",
       "5805  0.200738  0.221221  0.000000  0.000000  0.000000  0.000000  \n",
       "5806  0.000000  0.000000  0.000000  0.000000  0.000000  0.263130  \n",
       "5807  0.000000  0.000000  0.000000  0.000000  0.000000  0.297092  \n",
       "\n",
       "[5808 rows x 46 columns]"
      ]
     },
     "execution_count": 49,
     "metadata": {},
     "output_type": "execute_result"
    }
   ],
   "source": [
    "from sklearn.feature_extraction.text import TfidfVectorizer, CountVectorizer\n",
    "from sklearn.pipeline import make_pipeline\n",
    "tfidf = TfidfVectorizer(min_df=0.1)\n",
    "tfidf.fit(X_train2)\n",
    "feat_train = tfidf.transform(X_train2)\n",
    "feature_names = tfidf.get_feature_names_out()\n",
    "dense_train = feat_train.todense()\n",
    "denselist = dense_train.tolist()\n",
    "df_train = pd.DataFrame(denselist, columns=feature_names)\n",
    "df_train"
   ]
  },
  {
   "cell_type": "code",
   "execution_count": 50,
   "id": "024efad3",
   "metadata": {},
   "outputs": [
    {
     "data": {
      "text/plain": [
       "(5808, 46)"
      ]
     },
     "execution_count": 50,
     "metadata": {},
     "output_type": "execute_result"
    }
   ],
   "source": [
    "feat_train.toarray().shape"
   ]
  },
  {
   "cell_type": "code",
   "execution_count": 51,
   "id": "1cf62faf",
   "metadata": {},
   "outputs": [
    {
     "data": {
      "text/plain": [
       "(5808, 46)"
      ]
     },
     "execution_count": 51,
     "metadata": {},
     "output_type": "execute_result"
    }
   ],
   "source": [
    "feat_train.todense().shape"
   ]
  },
  {
   "cell_type": "code",
   "execution_count": 52,
   "id": "c6913135",
   "metadata": {},
   "outputs": [
    {
     "data": {
      "text/html": [
       "<div>\n",
       "<style scoped>\n",
       "    .dataframe tbody tr th:only-of-type {\n",
       "        vertical-align: middle;\n",
       "    }\n",
       "\n",
       "    .dataframe tbody tr th {\n",
       "        vertical-align: top;\n",
       "    }\n",
       "\n",
       "    .dataframe thead th {\n",
       "        text-align: right;\n",
       "    }\n",
       "</style>\n",
       "<table border=\"1\" class=\"dataframe\">\n",
       "  <thead>\n",
       "    <tr style=\"text-align: right;\">\n",
       "      <th></th>\n",
       "      <th>acteurs</th>\n",
       "      <th>action</th>\n",
       "      <th>aussi</th>\n",
       "      <th>bien</th>\n",
       "      <th>bon</th>\n",
       "      <th>casting</th>\n",
       "      <th>chef</th>\n",
       "      <th>christopher</th>\n",
       "      <th>cinéma</th>\n",
       "      <th>comme</th>\n",
       "      <th>...</th>\n",
       "      <th>spéciaux</th>\n",
       "      <th>tous</th>\n",
       "      <th>tout</th>\n",
       "      <th>trop</th>\n",
       "      <th>très</th>\n",
       "      <th>voir</th>\n",
       "      <th>vraiment</th>\n",
       "      <th>vu</th>\n",
       "      <th>ça</th>\n",
       "      <th>être</th>\n",
       "    </tr>\n",
       "  </thead>\n",
       "  <tbody>\n",
       "    <tr>\n",
       "      <th>0</th>\n",
       "      <td>0.0</td>\n",
       "      <td>0.000000</td>\n",
       "      <td>0.00000</td>\n",
       "      <td>0.000000</td>\n",
       "      <td>0.000000</td>\n",
       "      <td>0.0</td>\n",
       "      <td>0.0</td>\n",
       "      <td>0.000000</td>\n",
       "      <td>0.000000</td>\n",
       "      <td>0.000000</td>\n",
       "      <td>...</td>\n",
       "      <td>0.0</td>\n",
       "      <td>0.0</td>\n",
       "      <td>0.000000</td>\n",
       "      <td>0.0</td>\n",
       "      <td>0.000000</td>\n",
       "      <td>0.000000</td>\n",
       "      <td>0.000000</td>\n",
       "      <td>0.0</td>\n",
       "      <td>0.0</td>\n",
       "      <td>0.000000</td>\n",
       "    </tr>\n",
       "    <tr>\n",
       "      <th>1</th>\n",
       "      <td>0.0</td>\n",
       "      <td>0.314567</td>\n",
       "      <td>0.15836</td>\n",
       "      <td>0.110244</td>\n",
       "      <td>0.000000</td>\n",
       "      <td>0.0</td>\n",
       "      <td>0.0</td>\n",
       "      <td>0.301149</td>\n",
       "      <td>0.332371</td>\n",
       "      <td>0.138353</td>\n",
       "      <td>...</td>\n",
       "      <td>0.0</td>\n",
       "      <td>0.0</td>\n",
       "      <td>0.107158</td>\n",
       "      <td>0.0</td>\n",
       "      <td>0.000000</td>\n",
       "      <td>0.000000</td>\n",
       "      <td>0.000000</td>\n",
       "      <td>0.0</td>\n",
       "      <td>0.0</td>\n",
       "      <td>0.152476</td>\n",
       "    </tr>\n",
       "    <tr>\n",
       "      <th>2</th>\n",
       "      <td>0.0</td>\n",
       "      <td>0.000000</td>\n",
       "      <td>0.00000</td>\n",
       "      <td>0.000000</td>\n",
       "      <td>0.276975</td>\n",
       "      <td>0.0</td>\n",
       "      <td>0.0</td>\n",
       "      <td>0.000000</td>\n",
       "      <td>0.000000</td>\n",
       "      <td>0.303968</td>\n",
       "      <td>...</td>\n",
       "      <td>0.0</td>\n",
       "      <td>0.0</td>\n",
       "      <td>0.000000</td>\n",
       "      <td>0.0</td>\n",
       "      <td>0.239280</td>\n",
       "      <td>0.000000</td>\n",
       "      <td>0.329325</td>\n",
       "      <td>0.0</td>\n",
       "      <td>0.0</td>\n",
       "      <td>0.334998</td>\n",
       "    </tr>\n",
       "    <tr>\n",
       "      <th>3</th>\n",
       "      <td>0.0</td>\n",
       "      <td>0.000000</td>\n",
       "      <td>0.00000</td>\n",
       "      <td>0.000000</td>\n",
       "      <td>0.305721</td>\n",
       "      <td>0.0</td>\n",
       "      <td>0.0</td>\n",
       "      <td>0.000000</td>\n",
       "      <td>0.000000</td>\n",
       "      <td>0.000000</td>\n",
       "      <td>...</td>\n",
       "      <td>0.0</td>\n",
       "      <td>0.0</td>\n",
       "      <td>0.000000</td>\n",
       "      <td>0.0</td>\n",
       "      <td>0.264115</td>\n",
       "      <td>0.291064</td>\n",
       "      <td>0.363505</td>\n",
       "      <td>0.0</td>\n",
       "      <td>0.0</td>\n",
       "      <td>0.000000</td>\n",
       "    </tr>\n",
       "    <tr>\n",
       "      <th>4</th>\n",
       "      <td>0.0</td>\n",
       "      <td>0.000000</td>\n",
       "      <td>0.00000</td>\n",
       "      <td>0.551092</td>\n",
       "      <td>0.000000</td>\n",
       "      <td>0.0</td>\n",
       "      <td>0.0</td>\n",
       "      <td>0.000000</td>\n",
       "      <td>0.000000</td>\n",
       "      <td>0.000000</td>\n",
       "      <td>...</td>\n",
       "      <td>0.0</td>\n",
       "      <td>0.0</td>\n",
       "      <td>0.000000</td>\n",
       "      <td>0.0</td>\n",
       "      <td>0.000000</td>\n",
       "      <td>0.000000</td>\n",
       "      <td>0.000000</td>\n",
       "      <td>0.0</td>\n",
       "      <td>0.0</td>\n",
       "      <td>0.000000</td>\n",
       "    </tr>\n",
       "  </tbody>\n",
       "</table>\n",
       "<p>5 rows × 46 columns</p>\n",
       "</div>"
      ],
      "text/plain": [
       "   acteurs    action    aussi      bien       bon  casting  chef  christopher  \\\n",
       "0      0.0  0.000000  0.00000  0.000000  0.000000      0.0   0.0     0.000000   \n",
       "1      0.0  0.314567  0.15836  0.110244  0.000000      0.0   0.0     0.301149   \n",
       "2      0.0  0.000000  0.00000  0.000000  0.276975      0.0   0.0     0.000000   \n",
       "3      0.0  0.000000  0.00000  0.000000  0.305721      0.0   0.0     0.000000   \n",
       "4      0.0  0.000000  0.00000  0.551092  0.000000      0.0   0.0     0.000000   \n",
       "\n",
       "     cinéma     comme  ...  spéciaux  tous      tout  trop      très  \\\n",
       "0  0.000000  0.000000  ...       0.0   0.0  0.000000   0.0  0.000000   \n",
       "1  0.332371  0.138353  ...       0.0   0.0  0.107158   0.0  0.000000   \n",
       "2  0.000000  0.303968  ...       0.0   0.0  0.000000   0.0  0.239280   \n",
       "3  0.000000  0.000000  ...       0.0   0.0  0.000000   0.0  0.264115   \n",
       "4  0.000000  0.000000  ...       0.0   0.0  0.000000   0.0  0.000000   \n",
       "\n",
       "       voir  vraiment   vu   ça      être  \n",
       "0  0.000000  0.000000  0.0  0.0  0.000000  \n",
       "1  0.000000  0.000000  0.0  0.0  0.152476  \n",
       "2  0.000000  0.329325  0.0  0.0  0.334998  \n",
       "3  0.291064  0.363505  0.0  0.0  0.000000  \n",
       "4  0.000000  0.000000  0.0  0.0  0.000000  \n",
       "\n",
       "[5 rows x 46 columns]"
      ]
     },
     "execution_count": 52,
     "metadata": {},
     "output_type": "execute_result"
    }
   ],
   "source": [
    "feat_test = tfidf.transform(X_test2)\n",
    "feature_names = tfidf.get_feature_names_out()\n",
    "dense_test = feat_test.todense()\n",
    "denselist = dense_test.tolist()\n",
    "df_test = pd.DataFrame(denselist, columns=feature_names)\n",
    "df_test.head()"
   ]
  },
  {
   "cell_type": "code",
   "execution_count": 53,
   "id": "a944e757",
   "metadata": {},
   "outputs": [
    {
     "data": {
      "text/plain": [
       "(1452, 46)"
      ]
     },
     "execution_count": 53,
     "metadata": {},
     "output_type": "execute_result"
    }
   ],
   "source": [
    "dense_test.shape"
   ]
  },
  {
   "cell_type": "code",
   "execution_count": 54,
   "id": "0264d0ab",
   "metadata": {},
   "outputs": [
    {
     "data": {
      "text/plain": [
       "((5808,), (1452,))"
      ]
     },
     "execution_count": 54,
     "metadata": {},
     "output_type": "execute_result"
    }
   ],
   "source": [
    "# redimensionnement des targets pour la régression logistique\n",
    "y_train2 = y_train2.values.ravel()\n",
    "y_test2 = y_test2.values.ravel()\n",
    "y_train2.shape, y_test2.shape"
   ]
  },
  {
   "cell_type": "code",
   "execution_count": 56,
   "id": "c4eed5c8",
   "metadata": {
    "scrolled": true
   },
   "outputs": [
    {
     "name": "stdout",
     "output_type": "stream",
     "text": [
      "Précision pour C=0.01: 0.8574\n",
      "Précision pour C=0.05: 0.8574\n",
      "Précision pour C=0.25: 0.8664\n",
      "Précision pour C=0.5: 0.8705\n",
      "Précision pour C=1: 0.8733\n"
     ]
    }
   ],
   "source": [
    "from sklearn.linear_model import LogisticRegression\n",
    "from sklearn.metrics import accuracy_score\n",
    "#Trouve le meilleur hyperparametre c (régularisation)\n",
    "for c in [0.01, 0.05, 0.25, 0.5, 1]:\n",
    "    lr = LogisticRegression(C=c,solver='liblinear', random_state=0, max_iter=150)\n",
    "    lr.fit(feat_train.toarray(), y_train2)\n",
    "    y_pred_test2 = lr.predict(feat_test.toarray())\n",
    "    print (\"Précision pour C=%s: %s\" % (c, round(accuracy_score(y_test2, y_pred_test2),4)))"
   ]
  },
  {
   "cell_type": "code",
   "execution_count": 60,
   "id": "d1b3d48e",
   "metadata": {},
   "outputs": [
    {
     "name": "stdout",
     "output_type": "stream",
     "text": [
      "[1 1 1 ... 0 1 1]\n",
      "[1 1 1 ... 1 1 1]\n"
     ]
    }
   ],
   "source": [
    "# Créer votre modèle de régression logistique et entraînez le sur les données d'entraînement\n",
    "from sklearn.linear_model import LogisticRegression\n",
    "logreg = LogisticRegression(solver='liblinear', random_state=0, max_iter=15)\n",
    "# entrainement du model\n",
    "logreg.fit(feat_train.toarray(), y_train2)\n",
    "# Predire les résultats du modèle sur l'ensemble du test\n",
    "y_pred_test2 = logreg.predict(feat_test.toarray())\n",
    "print(y_pred_test2)\n",
    "print(y_test2)"
   ]
  },
  {
   "cell_type": "code",
   "execution_count": 61,
   "id": "967d2e2a",
   "metadata": {},
   "outputs": [
    {
     "name": "stdout",
     "output_type": "stream",
     "text": [
      "Model accuracy score:  0.8732782369146006\n"
     ]
    }
   ],
   "source": [
    "# Afficher l'accuracy score en utilisant la fonction accuracy_score sur le jeu de test\n",
    "from sklearn.metrics import accuracy_score\n",
    "print('Model accuracy score: ',accuracy_score(y_test2, y_pred_test2))"
   ]
  },
  {
   "cell_type": "code",
   "execution_count": 62,
   "id": "12f613e5",
   "metadata": {
    "scrolled": false
   },
   "outputs": [
    {
     "data": {
      "image/png": "[encoded data removed]",
      "text/plain": [
       "<Figure size 576x288 with 2 Axes>"
      ]
     },
     "metadata": {
      "needs_background": "light"
     },
     "output_type": "display_data"
    }
   ],
   "source": [
    "#Afficher la matrice de confusion\n",
    "from sklearn.metrics import confusion_matrix\n",
    "import seaborn as sns\n",
    "cm = confusion_matrix(y_test, y_pred_test2)\n",
    "plt.figure(figsize=(8, 4))\n",
    "sns.heatmap(cm, annot=True, fmt=\"d\", cmap=\"YlGnBu\")\n",
    "plt.show()"
   ]
  },
  {
   "cell_type": "code",
   "execution_count": null,
   "id": "13cc6294",
   "metadata": {},
   "outputs": [],
   "source": []
  },
  {
   "cell_type": "code",
   "execution_count": null,
   "id": "9001390a",
   "metadata": {},
   "outputs": [],
   "source": []
  },
  {
   "cell_type": "code",
   "execution_count": null,
   "id": "9f7e74f8",
   "metadata": {},
   "outputs": [],
   "source": []
  }
 ],
 "metadata": {
  "kernelspec": {
   "display_name": "Python 3 (ipykernel)",
   "language": "python",
   "name": "python3"
  },
  "language_info": {
   "codemirror_mode": {
    "name": "ipython",
    "version": 3
   },
   "file_extension": ".py",
   "mimetype": "text/x-python",
   "name": "python",
   "nbconvert_exporter": "python",
   "pygments_lexer": "ipython3",
   "version": "3.8.12"
  }
 },
 "nbformat": 4,
 "nbformat_minor": 5
}
